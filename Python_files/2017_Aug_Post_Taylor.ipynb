{
 "cells": [
  {
   "cell_type": "code",
   "execution_count": 1,
   "id": "69eecd68",
   "metadata": {},
   "outputs": [
    {
     "data": {
      "text/html": [
       "<div>\n",
       "<style scoped>\n",
       "    .dataframe tbody tr th:only-of-type {\n",
       "        vertical-align: middle;\n",
       "    }\n",
       "\n",
       "    .dataframe tbody tr th {\n",
       "        vertical-align: top;\n",
       "    }\n",
       "\n",
       "    .dataframe thead th {\n",
       "        text-align: right;\n",
       "    }\n",
       "</style>\n",
       "<table border=\"1\" class=\"dataframe\">\n",
       "  <thead>\n",
       "    <tr style=\"text-align: right;\">\n",
       "      <th></th>\n",
       "      <th>User Id</th>\n",
       "      <th>Username</th>\n",
       "      <th>Comment Id</th>\n",
       "      <th>Comment Text</th>\n",
       "      <th>Reply Count</th>\n",
       "      <th>Like Count</th>\n",
       "      <th>Date</th>\n",
       "      <th>Permalink URL</th>\n",
       "      <th>Profile URL</th>\n",
       "    </tr>\n",
       "  </thead>\n",
       "  <tbody>\n",
       "    <tr>\n",
       "      <th>0</th>\n",
       "      <td>14225966</td>\n",
       "      <td>Ashley Marie</td>\n",
       "      <td>10154969205450369_10154969213045369</td>\n",
       "      <td>What?!? What is this? Is T. Swift going to be ...</td>\n",
       "      <td>84</td>\n",
       "      <td>1777</td>\n",
       "      <td>8/21/2017, 5:02:31 PM</td>\n",
       "      <td>https://www.facebook.com/TaylorSwift/videos/10...</td>\n",
       "      <td>https://www.facebook.com/profile.php?id=14225966</td>\n",
       "    </tr>\n",
       "  </tbody>\n",
       "</table>\n",
       "</div>"
      ],
      "text/plain": [
       "    User Id      Username                           Comment Id  \\\n",
       "0  14225966  Ashley Marie  10154969205450369_10154969213045369   \n",
       "\n",
       "                                        Comment Text  Reply Count  Like Count  \\\n",
       "0  What?!? What is this? Is T. Swift going to be ...           84        1777   \n",
       "\n",
       "                    Date                                      Permalink URL  \\\n",
       "0  8/21/2017, 5:02:31 PM  https://www.facebook.com/TaylorSwift/videos/10...   \n",
       "\n",
       "                                        Profile URL  \n",
       "0  https://www.facebook.com/profile.php?id=14225966  "
      ]
     },
     "execution_count": 1,
     "metadata": {},
     "output_type": "execute_result"
    }
   ],
   "source": [
    "import pandas as pd\n",
    "\n",
    "df1=pd.read_csv(\"C:\\\\Users\\\\sukan\\\\OneDrive\\\\Desktop\\\\Udemy_courses_notes\\\\Python\\\\FBcomments\\\\Taylor_Swift\\\\2017\\\\21aug17.csv\",header=0)\n",
    "df2=pd.read_csv(\"C:\\\\Users\\\\sukan\\\\OneDrive\\\\Desktop\\\\Udemy_courses_notes\\\\Python\\\\FBcomments\\\\Taylor_Swift\\\\2017\\\\22aug17.csv\",header=0)\n",
    "df3=pd.read_csv(\"C:\\\\Users\\\\sukan\\\\OneDrive\\\\Desktop\\\\Udemy_courses_notes\\\\Python\\\\FBcomments\\\\Taylor_Swift\\\\2017\\\\23aug1_17.csv\",header=0)\n",
    "df4=pd.read_csv(\"C:\\\\Users\\\\sukan\\\\OneDrive\\\\Desktop\\\\Udemy_courses_notes\\\\Python\\\\FBcomments\\\\Taylor_Swift\\\\2017\\\\23aug2_17.csv\",header=0)\n",
    "df5=pd.read_csv(\"C:\\\\Users\\\\sukan\\\\OneDrive\\\\Desktop\\\\Udemy_courses_notes\\\\Python\\\\FBcomments\\\\Taylor_Swift\\\\2017\\\\28aug1_17.csv\",header=0)\n",
    "df6=pd.read_csv(\"C:\\\\Users\\\\sukan\\\\OneDrive\\\\Desktop\\\\Udemy_courses_notes\\\\Python\\\\FBcomments\\\\Taylor_Swift\\\\2017\\\\28aug2_17.csv\",header=0)\n",
    "df7=pd.read_csv(\"C:\\\\Users\\\\sukan\\\\OneDrive\\\\Desktop\\\\Udemy_courses_notes\\\\Python\\\\FBcomments\\\\Taylor_Swift\\\\2017\\\\30aug17.csv\",header=0)\n",
    "\n",
    "df=pd.concat([df1,df2,df3,df4,df5,df6,df7])\n",
    "\n",
    "df.head(1)"
   ]
  },
  {
   "cell_type": "code",
   "execution_count": 2,
   "id": "216d49c3",
   "metadata": {},
   "outputs": [
    {
     "name": "stdout",
     "output_type": "stream",
     "text": [
      "<class 'pandas.core.frame.DataFrame'>\n",
      "Int64Index: 85477 entries, 0 to 3202\n",
      "Data columns (total 9 columns):\n",
      " #   Column         Non-Null Count  Dtype \n",
      "---  ------         --------------  ----- \n",
      " 0   User Id        85477 non-null  int64 \n",
      " 1   Username       85477 non-null  object\n",
      " 2   Comment Id     85477 non-null  object\n",
      " 3   Comment Text   83198 non-null  object\n",
      " 4   Reply Count    85477 non-null  int64 \n",
      " 5   Like Count     85477 non-null  int64 \n",
      " 6   Date           85477 non-null  object\n",
      " 7   Permalink URL  85477 non-null  object\n",
      " 8   Profile URL    85477 non-null  object\n",
      "dtypes: int64(3), object(6)\n",
      "memory usage: 6.5+ MB\n"
     ]
    }
   ],
   "source": [
    "df.info()"
   ]
  },
  {
   "cell_type": "code",
   "execution_count": 3,
   "id": "c917474f",
   "metadata": {},
   "outputs": [
    {
     "data": {
      "text/plain": [
       "array(['2017', '2022', '2021', '2023', '2020', '2019', '2018'],\n",
       "      dtype=object)"
      ]
     },
     "execution_count": 3,
     "metadata": {},
     "output_type": "execute_result"
    }
   ],
   "source": [
    "df['Year']= df['Date'].apply(lambda x: x.split(',')[0][-4:])\n",
    "df['Year'].unique()"
   ]
  },
  {
   "cell_type": "code",
   "execution_count": 8,
   "id": "4e4577a9",
   "metadata": {},
   "outputs": [],
   "source": [
    "import emoji"
   ]
  },
  {
   "cell_type": "markdown",
   "id": "2f6c1919",
   "metadata": {},
   "source": [
    "# year 2017 in 2017post"
   ]
  },
  {
   "cell_type": "code",
   "execution_count": 71,
   "id": "da1a7145",
   "metadata": {
    "collapsed": true
   },
   "outputs": [
    {
     "name": "stdout",
     "output_type": "stream",
     "text": [
      "<class 'pandas.core.frame.DataFrame'>\n",
      "Int64Index: 83167 entries, 0 to 3202\n",
      "Data columns (total 2 columns):\n",
      " #   Column        Non-Null Count  Dtype \n",
      "---  ------        --------------  ----- \n",
      " 0   Year          83167 non-null  object\n",
      " 1   Comment Text  81106 non-null  object\n",
      "dtypes: object(2)\n",
      "memory usage: 1.9+ MB\n"
     ]
    }
   ],
   "source": [
    "c17_p17=pd.DataFrame(df[df['Year']=='2017'][['Year','Comment Text']])\n",
    "c17_p17.info()"
   ]
  },
  {
   "cell_type": "code",
   "execution_count": 72,
   "id": "8e755e22",
   "metadata": {},
   "outputs": [],
   "source": [
    "c17_p17['Comment Text']=c17_p17['Comment Text'].astype(str)"
   ]
  },
  {
   "cell_type": "code",
   "execution_count": 73,
   "id": "8077ec7d",
   "metadata": {
    "scrolled": true
   },
   "outputs": [
    {
     "name": "stdout",
     "output_type": "stream",
     "text": [
      "47820\n"
     ]
    }
   ],
   "source": [
    "sen17 = [i for i in c17_p17['Comment Text']]\n",
    "sen17 = ' '.join(sen17) \n",
    "\n",
    "char = [i for i in sen17]\n",
    "\n",
    "emojis_found = []\n",
    "\n",
    "for i in char:\n",
    "    if emoji.is_emoji(i):\n",
    "        emojis_found.append(i)\n",
    "\n",
    "print(len(emojis_found))"
   ]
  },
  {
   "cell_type": "code",
   "execution_count": 74,
   "id": "86ffc91d",
   "metadata": {},
   "outputs": [
    {
     "name": "stdout",
     "output_type": "stream",
     "text": [
      "15995\n"
     ]
    }
   ],
   "source": [
    "first_emojis = []\n",
    "\n",
    "for comment in c17_p17['Comment Text']:\n",
    "    emoji_found = False\n",
    "    for char in comment:\n",
    "        if emoji.is_emoji(char):\n",
    "            first_emojis.append(char)\n",
    "            emoji_found = True\n",
    "            break  \n",
    "    if not emoji_found:\n",
    "        first_emojis.append(None)  \n",
    "\n",
    "emojipercommnet = []\n",
    "\n",
    "for i in first_emojis:\n",
    "    if emoji.is_emoji(i):\n",
    "        emojipercommnet.append(i)\n",
    "\n",
    "print(len(emojipercommnet))"
   ]
  },
  {
   "cell_type": "markdown",
   "id": "80ff919c",
   "metadata": {},
   "source": [
    "# year 2018 in 2017post"
   ]
  },
  {
   "cell_type": "code",
   "execution_count": 75,
   "id": "10d619a0",
   "metadata": {},
   "outputs": [
    {
     "name": "stdout",
     "output_type": "stream",
     "text": [
      "<class 'pandas.core.frame.DataFrame'>\n",
      "Int64Index: 120 entries, 2167 to 3117\n",
      "Data columns (total 2 columns):\n",
      " #   Column        Non-Null Count  Dtype \n",
      "---  ------        --------------  ----- \n",
      " 0   Year          120 non-null    object\n",
      " 1   Comment Text  102 non-null    object\n",
      "dtypes: object(2)\n",
      "memory usage: 2.8+ KB\n"
     ]
    }
   ],
   "source": [
    "c18_p17=pd.DataFrame(df[df['Year']=='2018'][['Year','Comment Text']])\n",
    "c18_p17.info()"
   ]
  },
  {
   "cell_type": "code",
   "execution_count": 76,
   "id": "08013f06",
   "metadata": {},
   "outputs": [],
   "source": [
    "c18_p17['Comment Text']=c18_p17['Comment Text'].astype(str)"
   ]
  },
  {
   "cell_type": "code",
   "execution_count": 60,
   "id": "9a5cbba4",
   "metadata": {},
   "outputs": [
    {
     "name": "stdout",
     "output_type": "stream",
     "text": [
      "68\n"
     ]
    }
   ],
   "source": [
    "sen18 = [i for i in c18_p17['Comment Text']]\n",
    "sen18 = ' '.join(sen18)\n",
    "\n",
    "char = [i for i in sen18]\n",
    "\n",
    "emojis_found = []\n",
    "\n",
    "for i in char:\n",
    "    if emoji.is_emoji(i):\n",
    "        emojis_found.append(i)\n",
    "\n",
    "print(len(emojis_found))"
   ]
  },
  {
   "cell_type": "code",
   "execution_count": 77,
   "id": "560ae173",
   "metadata": {},
   "outputs": [
    {
     "name": "stdout",
     "output_type": "stream",
     "text": [
      "30\n"
     ]
    }
   ],
   "source": [
    "first_emojis = []\n",
    "\n",
    "for comment in c18_p17['Comment Text']:\n",
    "    emoji_found = False\n",
    "    for char in comment:\n",
    "        if emoji.is_emoji(char):\n",
    "            first_emojis.append(char)\n",
    "            emoji_found = True\n",
    "            break  \n",
    "    if not emoji_found:\n",
    "        first_emojis.append(None)  \n",
    "\n",
    "emojipercommnet = []\n",
    "\n",
    "for i in first_emojis:\n",
    "    if emoji.is_emoji(i):\n",
    "        emojipercommnet.append(i)\n",
    "\n",
    "print(len(emojipercommnet))"
   ]
  },
  {
   "cell_type": "markdown",
   "id": "95990965",
   "metadata": {},
   "source": [
    "# year 2019 in 2017post"
   ]
  },
  {
   "cell_type": "code",
   "execution_count": 78,
   "id": "ec29fcea",
   "metadata": {},
   "outputs": [
    {
     "name": "stdout",
     "output_type": "stream",
     "text": [
      "<class 'pandas.core.frame.DataFrame'>\n",
      "Int64Index: 622 entries, 1617 to 3164\n",
      "Data columns (total 2 columns):\n",
      " #   Column        Non-Null Count  Dtype \n",
      "---  ------        --------------  ----- \n",
      " 0   Year          622 non-null    object\n",
      " 1   Comment Text  486 non-null    object\n",
      "dtypes: object(2)\n",
      "memory usage: 14.6+ KB\n"
     ]
    }
   ],
   "source": [
    "c19_p17=pd.DataFrame(df[df['Year']=='2019'][['Year','Comment Text']])\n",
    "c19_p17.info()"
   ]
  },
  {
   "cell_type": "code",
   "execution_count": 79,
   "id": "a0cb5ec8",
   "metadata": {},
   "outputs": [
    {
     "name": "stdout",
     "output_type": "stream",
     "text": [
      "558\n"
     ]
    }
   ],
   "source": [
    "c19_p17['Comment Text']=c19_p17['Comment Text'].astype(str)\n",
    "\n",
    "sen19 = [i for i in c19_p17['Comment Text']]\n",
    "sen19 = ' '.join(sen19) \n",
    "\n",
    "char = [i for i in sen19]\n",
    "\n",
    "emojis_found = []\n",
    "\n",
    "for i in char:\n",
    "    if emoji.is_emoji(i):\n",
    "        emojis_found.append(i)\n",
    "\n",
    "print(len(emojis_found))"
   ]
  },
  {
   "cell_type": "code",
   "execution_count": 80,
   "id": "0cdb6924",
   "metadata": {},
   "outputs": [
    {
     "name": "stdout",
     "output_type": "stream",
     "text": [
      "216\n"
     ]
    }
   ],
   "source": [
    "first_emojis = []\n",
    "\n",
    "for comment in c19_p17['Comment Text']:\n",
    "    emoji_found = False\n",
    "    for char in comment:\n",
    "        if emoji.is_emoji(char):\n",
    "            first_emojis.append(char)\n",
    "            emoji_found = True\n",
    "            break  \n",
    "    if not emoji_found:\n",
    "        first_emojis.append(None) \n",
    "\n",
    "emojipercommnet = []\n",
    "\n",
    "for i in first_emojis:\n",
    "    if emoji.is_emoji(i):\n",
    "        emojipercommnet.append(i)\n",
    "\n",
    "print(len(emojipercommnet))"
   ]
  },
  {
   "cell_type": "markdown",
   "id": "847a8364",
   "metadata": {},
   "source": [
    "# year 2020 in 2017post"
   ]
  },
  {
   "cell_type": "code",
   "execution_count": 81,
   "id": "b5f6aecf",
   "metadata": {},
   "outputs": [
    {
     "name": "stdout",
     "output_type": "stream",
     "text": [
      "<class 'pandas.core.frame.DataFrame'>\n",
      "Int64Index: 474 entries, 1554 to 3162\n",
      "Data columns (total 2 columns):\n",
      " #   Column        Non-Null Count  Dtype \n",
      "---  ------        --------------  ----- \n",
      " 0   Year          474 non-null    object\n",
      " 1   Comment Text  418 non-null    object\n",
      "dtypes: object(2)\n",
      "memory usage: 11.1+ KB\n"
     ]
    }
   ],
   "source": [
    "c20_p17=pd.DataFrame(df[df['Year']=='2020'][['Year','Comment Text']])\n",
    "c20_p17.info()"
   ]
  },
  {
   "cell_type": "code",
   "execution_count": 82,
   "id": "17b2a3d1",
   "metadata": {},
   "outputs": [
    {
     "name": "stdout",
     "output_type": "stream",
     "text": [
      "596\n"
     ]
    }
   ],
   "source": [
    "c20_p17['Comment Text']=c20_p17['Comment Text'].astype(str)\n",
    "\n",
    "sen20 = [i for i in c20_p17['Comment Text']]\n",
    "sen20 = ' '.join(sen20) \n",
    "\n",
    "char = [i for i in sen20]\n",
    "\n",
    "emojis_found = []\n",
    "\n",
    "for i in char:\n",
    "    if emoji.is_emoji(i):\n",
    "        emojis_found.append(i)\n",
    "\n",
    "print(len(emojis_found))"
   ]
  },
  {
   "cell_type": "code",
   "execution_count": 83,
   "id": "08eeac8b",
   "metadata": {},
   "outputs": [
    {
     "name": "stdout",
     "output_type": "stream",
     "text": [
      "190\n"
     ]
    }
   ],
   "source": [
    "first_emojis = []\n",
    "\n",
    "for comment in c20_p17['Comment Text']:\n",
    "    emoji_found = False\n",
    "    for char in comment:\n",
    "        if emoji.is_emoji(char):\n",
    "            first_emojis.append(char)\n",
    "            emoji_found = True\n",
    "            break  \n",
    "    if not emoji_found:\n",
    "        first_emojis.append(None)  \n",
    "\n",
    "emojipercommnet = []\n",
    "\n",
    "for i in first_emojis:\n",
    "    if emoji.is_emoji(i):\n",
    "        emojipercommnet.append(i)\n",
    "\n",
    "print(len(emojipercommnet))"
   ]
  },
  {
   "cell_type": "markdown",
   "id": "b66898d7",
   "metadata": {},
   "source": [
    "# year 2021 in 2017post"
   ]
  },
  {
   "cell_type": "code",
   "execution_count": 84,
   "id": "99b002e6",
   "metadata": {
    "collapsed": true
   },
   "outputs": [
    {
     "name": "stdout",
     "output_type": "stream",
     "text": [
      "<class 'pandas.core.frame.DataFrame'>\n",
      "Int64Index: 545 entries, 1517 to 3201\n",
      "Data columns (total 2 columns):\n",
      " #   Column        Non-Null Count  Dtype \n",
      "---  ------        --------------  ----- \n",
      " 0   Year          545 non-null    object\n",
      " 1   Comment Text  542 non-null    object\n",
      "dtypes: object(2)\n",
      "memory usage: 12.8+ KB\n"
     ]
    }
   ],
   "source": [
    "c21_p17=pd.DataFrame(df[df['Year']=='2021'][['Year','Comment Text']])\n",
    "c21_p17.info()"
   ]
  },
  {
   "cell_type": "code",
   "execution_count": 85,
   "id": "1711668f",
   "metadata": {},
   "outputs": [],
   "source": [
    "c21_p17['Comment Text']=c21_p17['Comment Text'].astype(str)"
   ]
  },
  {
   "cell_type": "code",
   "execution_count": 86,
   "id": "c33aaa3f",
   "metadata": {},
   "outputs": [
    {
     "name": "stdout",
     "output_type": "stream",
     "text": [
      "536\n"
     ]
    }
   ],
   "source": [
    "sen21 = [i for i in c21_p17['Comment Text']]\n",
    "sen21 = ' '.join(sen21)\n",
    "\n",
    "char = [i for i in sen21]\n",
    "\n",
    "emojis_found = []\n",
    "\n",
    "for i in char:\n",
    "    if emoji.is_emoji(i):\n",
    "        emojis_found.append(i)\n",
    "\n",
    "print(len(emojis_found))"
   ]
  },
  {
   "cell_type": "code",
   "execution_count": 87,
   "id": "1470e152",
   "metadata": {},
   "outputs": [
    {
     "name": "stdout",
     "output_type": "stream",
     "text": [
      "152\n"
     ]
    }
   ],
   "source": [
    "first_emojis = []\n",
    "\n",
    "for comment in c21_p17['Comment Text']:\n",
    "    emoji_found = False\n",
    "    for char in comment:\n",
    "        if emoji.is_emoji(char):\n",
    "            first_emojis.append(char)\n",
    "            emoji_found = True\n",
    "            break  \n",
    "    if not emoji_found:\n",
    "        first_emojis.append(None)\n",
    "\n",
    "emojipercommnet = []\n",
    "\n",
    "for i in first_emojis:\n",
    "    if emoji.is_emoji(i):\n",
    "        emojipercommnet.append(i)\n",
    "\n",
    "print(len(emojipercommnet))"
   ]
  },
  {
   "cell_type": "markdown",
   "id": "3bbb3c2b",
   "metadata": {},
   "source": [
    "# year 2022 in 2017post"
   ]
  },
  {
   "cell_type": "code",
   "execution_count": 88,
   "id": "36263900",
   "metadata": {
    "collapsed": true
   },
   "outputs": [
    {
     "name": "stdout",
     "output_type": "stream",
     "text": [
      "<class 'pandas.core.frame.DataFrame'>\n",
      "Int64Index: 244 entries, 1513 to 3199\n",
      "Data columns (total 2 columns):\n",
      " #   Column        Non-Null Count  Dtype \n",
      "---  ------        --------------  ----- \n",
      " 0   Year          244 non-null    object\n",
      " 1   Comment Text  240 non-null    object\n",
      "dtypes: object(2)\n",
      "memory usage: 5.7+ KB\n"
     ]
    }
   ],
   "source": [
    "c22_p17=pd.DataFrame(df[df['Year']=='2022'][['Year','Comment Text']])\n",
    "c22_p17.info()"
   ]
  },
  {
   "cell_type": "code",
   "execution_count": 89,
   "id": "e0d163f3",
   "metadata": {},
   "outputs": [],
   "source": [
    "c22_p17['Comment Text']=c22_p17['Comment Text'].astype(str)"
   ]
  },
  {
   "cell_type": "code",
   "execution_count": 90,
   "id": "3c19f371",
   "metadata": {},
   "outputs": [
    {
     "name": "stdout",
     "output_type": "stream",
     "text": [
      "187\n"
     ]
    }
   ],
   "source": [
    "sen22 = [i for i in c22_p17['Comment Text']]\n",
    "sen22 = ' '.join(sen22) \n",
    "\n",
    "char = [i for i in sen22]\n",
    "\n",
    "emojis_found = []\n",
    "\n",
    "for i in char:\n",
    "    if emoji.is_emoji(i):\n",
    "        emojis_found.append(i)\n",
    "\n",
    "print(len(emojis_found))"
   ]
  },
  {
   "cell_type": "code",
   "execution_count": 91,
   "id": "61515c5e",
   "metadata": {},
   "outputs": [
    {
     "name": "stdout",
     "output_type": "stream",
     "text": [
      "66\n"
     ]
    }
   ],
   "source": [
    "first_emojis = []\n",
    "\n",
    "for comment in c22_p17['Comment Text']:\n",
    "    emoji_found = False\n",
    "    for char in comment:\n",
    "        if emoji.is_emoji(char):\n",
    "            first_emojis.append(char)\n",
    "            emoji_found = True\n",
    "            break \n",
    "    if not emoji_found:\n",
    "        first_emojis.append(None) \n",
    "\n",
    "emojipercommnet = []\n",
    "\n",
    "for i in first_emojis:\n",
    "    if emoji.is_emoji(i):\n",
    "        emojipercommnet.append(i)\n",
    "\n",
    "print(len(emojipercommnet))"
   ]
  },
  {
   "cell_type": "markdown",
   "id": "5493bbf2",
   "metadata": {},
   "source": [
    "# year 2023 of 2017post"
   ]
  },
  {
   "cell_type": "code",
   "execution_count": 4,
   "id": "aaf5fa77",
   "metadata": {},
   "outputs": [
    {
     "name": "stdout",
     "output_type": "stream",
     "text": [
      "<class 'pandas.core.frame.DataFrame'>\n",
      "Int64Index: 305 entries, 1522 to 3198\n",
      "Data columns (total 2 columns):\n",
      " #   Column        Non-Null Count  Dtype \n",
      "---  ------        --------------  ----- \n",
      " 0   Year          305 non-null    object\n",
      " 1   Comment Text  304 non-null    object\n",
      "dtypes: object(2)\n",
      "memory usage: 7.1+ KB\n"
     ]
    }
   ],
   "source": [
    "c23_p17=pd.DataFrame(df[df['Year']=='2023'][['Year','Comment Text']])\n",
    "c23_p17.info()"
   ]
  },
  {
   "cell_type": "code",
   "execution_count": 5,
   "id": "267224e0",
   "metadata": {},
   "outputs": [],
   "source": [
    "c23_p17['Comment Text']=c23_p17['Comment Text'].astype(str)"
   ]
  },
  {
   "cell_type": "code",
   "execution_count": 9,
   "id": "4ca478be",
   "metadata": {},
   "outputs": [
    {
     "name": "stdout",
     "output_type": "stream",
     "text": [
      "431\n"
     ]
    }
   ],
   "source": [
    "sen23 = [i for i in c23_p17['Comment Text']]\n",
    "sen23 = ' '.join(sen23) \n",
    "\n",
    "char = [i for i in sen23]\n",
    "\n",
    "emojis_found = []\n",
    "\n",
    "for i in char:\n",
    "    if emoji.is_emoji(i):\n",
    "        emojis_found.append(i)\n",
    "\n",
    "print(len(emojis_found))"
   ]
  },
  {
   "cell_type": "code",
   "execution_count": 11,
   "id": "f802be2b",
   "metadata": {},
   "outputs": [
    {
     "name": "stdout",
     "output_type": "stream",
     "text": [
      "122\n"
     ]
    }
   ],
   "source": [
    "first_emojis = []\n",
    "\n",
    "for comment in c23_p17['Comment Text']:\n",
    "    emoji_found = False\n",
    "    for char in comment:\n",
    "        if emoji.is_emoji(char):\n",
    "            first_emojis.append(char)\n",
    "            emoji_found = True\n",
    "            break  \n",
    "    if not emoji_found:\n",
    "        first_emojis.append(None) \n",
    "\n",
    "emojipercommnet = []\n",
    "\n",
    "for i in first_emojis:\n",
    "    if emoji.is_emoji(i):\n",
    "        emojipercommnet.append(i)\n",
    "\n",
    "print(len(emojipercommnet))"
   ]
  }
 ],
 "metadata": {
  "kernelspec": {
   "display_name": "Python 3 (ipykernel)",
   "language": "python",
   "name": "python3"
  },
  "language_info": {
   "codemirror_mode": {
    "name": "ipython",
    "version": 3
   },
   "file_extension": ".py",
   "mimetype": "text/x-python",
   "name": "python",
   "nbconvert_exporter": "python",
   "pygments_lexer": "ipython3",
   "version": "3.9.13"
  }
 },
 "nbformat": 4,
 "nbformat_minor": 5
}
