{
 "cells": [
  {
   "cell_type": "code",
   "execution_count": 5,
   "id": "b30a82f5",
   "metadata": {},
   "outputs": [],
   "source": [
    "import pandas as pd \n",
    "import emoji"
   ]
  },
  {
   "cell_type": "code",
   "execution_count": 8,
   "id": "a6c14b60",
   "metadata": {},
   "outputs": [
    {
     "data": {
      "text/html": [
       "<div>\n",
       "<style scoped>\n",
       "    .dataframe tbody tr th:only-of-type {\n",
       "        vertical-align: middle;\n",
       "    }\n",
       "\n",
       "    .dataframe tbody tr th {\n",
       "        vertical-align: top;\n",
       "    }\n",
       "\n",
       "    .dataframe thead th {\n",
       "        text-align: right;\n",
       "    }\n",
       "</style>\n",
       "<table border=\"1\" class=\"dataframe\">\n",
       "  <thead>\n",
       "    <tr style=\"text-align: right;\">\n",
       "      <th></th>\n",
       "      <th>User Id</th>\n",
       "      <th>Username</th>\n",
       "      <th>Comment Id</th>\n",
       "      <th>Comment Text</th>\n",
       "      <th>Reply Count</th>\n",
       "      <th>Like Count</th>\n",
       "      <th>Date</th>\n",
       "      <th>Permalink URL</th>\n",
       "      <th>Profile URL</th>\n",
       "    </tr>\n",
       "  </thead>\n",
       "  <tbody>\n",
       "    <tr>\n",
       "      <th>0</th>\n",
       "      <td>100042929536141</td>\n",
       "      <td>Jared Espino</td>\n",
       "      <td>626387172186438_1158462955060423</td>\n",
       "      <td>☆BASTA POST NI IDOL Like👍 KOYAN.!!!☆SANA LAGI ...</td>\n",
       "      <td>2</td>\n",
       "      <td>0</td>\n",
       "      <td>8/29/2022, 6:09:33 AM</td>\n",
       "      <td>https://www.facebook.com/100044454818615/posts...</td>\n",
       "      <td>https://www.facebook.com/profile.php?id=100042...</td>\n",
       "    </tr>\n",
       "  </tbody>\n",
       "</table>\n",
       "</div>"
      ],
      "text/plain": [
       "           User Id      Username                        Comment Id  \\\n",
       "0  100042929536141  Jared Espino  626387172186438_1158462955060423   \n",
       "\n",
       "                                        Comment Text  Reply Count  Like Count  \\\n",
       "0  ☆BASTA POST NI IDOL Like👍 KOYAN.!!!☆SANA LAGI ...            2           0   \n",
       "\n",
       "                    Date                                      Permalink URL  \\\n",
       "0  8/29/2022, 6:09:33 AM  https://www.facebook.com/100044454818615/posts...   \n",
       "\n",
       "                                         Profile URL  \n",
       "0  https://www.facebook.com/profile.php?id=100042...  "
      ]
     },
     "execution_count": 8,
     "metadata": {},
     "output_type": "execute_result"
    }
   ],
   "source": [
    "df=pd.read_csv(\"C:\\\\Users\\\\sukan\\\\OneDrive\\\\Desktop\\\\Python\\\\FBcomments\\\\Taylor_Swift\\\\2022\\\\29Aug22.csv\")\n",
    "df.head(1)"
   ]
  },
  {
   "cell_type": "code",
   "execution_count": 9,
   "id": "2ca0207b",
   "metadata": {},
   "outputs": [
    {
     "name": "stdout",
     "output_type": "stream",
     "text": [
      "<class 'pandas.core.frame.DataFrame'>\n",
      "RangeIndex: 41819 entries, 0 to 41818\n",
      "Data columns (total 9 columns):\n",
      " #   Column         Non-Null Count  Dtype \n",
      "---  ------         --------------  ----- \n",
      " 0   User Id        41819 non-null  int64 \n",
      " 1   Username       41819 non-null  object\n",
      " 2   Comment Id     41819 non-null  object\n",
      " 3   Comment Text   40816 non-null  object\n",
      " 4   Reply Count    41819 non-null  int64 \n",
      " 5   Like Count     41819 non-null  int64 \n",
      " 6   Date           41819 non-null  object\n",
      " 7   Permalink URL  41819 non-null  object\n",
      " 8   Profile URL    41819 non-null  object\n",
      "dtypes: int64(3), object(6)\n",
      "memory usage: 2.9+ MB\n"
     ]
    }
   ],
   "source": [
    "df.info()"
   ]
  },
  {
   "cell_type": "code",
   "execution_count": 5,
   "id": "85f4b005",
   "metadata": {},
   "outputs": [
    {
     "data": {
      "text/plain": [
       "array(['2022', '2023'], dtype=object)"
      ]
     },
     "execution_count": 5,
     "metadata": {},
     "output_type": "execute_result"
    }
   ],
   "source": [
    "df['Year']= df['Date'].apply(lambda x: x.split(',')[0][-4:])\n",
    "df['Year'].unique()"
   ]
  },
  {
   "cell_type": "markdown",
   "id": "4071b622",
   "metadata": {},
   "source": [
    "# 2022"
   ]
  },
  {
   "cell_type": "code",
   "execution_count": 7,
   "id": "6d916bf6",
   "metadata": {},
   "outputs": [
    {
     "name": "stdout",
     "output_type": "stream",
     "text": [
      "<class 'pandas.core.frame.DataFrame'>\n",
      "Int64Index: 39014 entries, 0 to 41816\n",
      "Data columns (total 2 columns):\n",
      " #   Column        Non-Null Count  Dtype \n",
      "---  ------        --------------  ----- \n",
      " 0   Year          39014 non-null  object\n",
      " 1   Comment Text  38128 non-null  object\n",
      "dtypes: object(2)\n",
      "memory usage: 914.4+ KB\n"
     ]
    }
   ],
   "source": [
    "c22_p22=pd.DataFrame(df[df['Year']=='2022'][['Year','Comment Text']])\n",
    "c22_p22.info()  "
   ]
  },
  {
   "cell_type": "code",
   "execution_count": 8,
   "id": "7f346488",
   "metadata": {},
   "outputs": [
    {
     "name": "stdout",
     "output_type": "stream",
     "text": [
      "47889\n"
     ]
    }
   ],
   "source": [
    "c22_p22['Comment Text']=c22_p22['Comment Text'].astype(str)\n",
    "\n",
    "sen22 = [i for i in c22_p22['Comment Text']]\n",
    "sen22 = ' '.join(sen22)\n",
    "\n",
    "char = [i for i in sen22]\n",
    "\n",
    "emojis_found = []\n",
    "\n",
    "for i in char:\n",
    "    if emoji.is_emoji(i):\n",
    "        emojis_found.append(i)\n",
    "\n",
    "print(len(emojis_found))"
   ]
  },
  {
   "cell_type": "code",
   "execution_count": 9,
   "id": "684ddb16",
   "metadata": {},
   "outputs": [
    {
     "name": "stdout",
     "output_type": "stream",
     "text": [
      "13808\n"
     ]
    }
   ],
   "source": [
    "first_emojis = []\n",
    "\n",
    "for comment in c22_p22['Comment Text']:\n",
    "    emoji_found = False\n",
    "    for char in comment:\n",
    "        if emoji.is_emoji(char):\n",
    "            first_emojis.append(char)\n",
    "            emoji_found = True\n",
    "            break  \n",
    "    if not emoji_found:\n",
    "        first_emojis.append(None)  \n",
    "\n",
    "emojipercommnet = []\n",
    "\n",
    "for i in first_emojis:\n",
    "    if emoji.is_emoji(i):\n",
    "        emojipercommnet.append(i)\n",
    "\n",
    "print(len(emojipercommnet))"
   ]
  },
  {
   "cell_type": "markdown",
   "id": "ac77c623",
   "metadata": {},
   "source": [
    "# 2023"
   ]
  },
  {
   "cell_type": "code",
   "execution_count": 11,
   "id": "9bd3748d",
   "metadata": {},
   "outputs": [
    {
     "name": "stdout",
     "output_type": "stream",
     "text": [
      "<class 'pandas.core.frame.DataFrame'>\n",
      "Int64Index: 2805 entries, 4 to 41818\n",
      "Data columns (total 2 columns):\n",
      " #   Column        Non-Null Count  Dtype \n",
      "---  ------        --------------  ----- \n",
      " 0   Year          2805 non-null   object\n",
      " 1   Comment Text  2688 non-null   object\n",
      "dtypes: object(2)\n",
      "memory usage: 65.7+ KB\n"
     ]
    }
   ],
   "source": [
    "c23_p22=pd.DataFrame(df[df['Year']=='2023'][['Year','Comment Text']])\n",
    "c23_p22.info()  "
   ]
  },
  {
   "cell_type": "code",
   "execution_count": 12,
   "id": "6d7f2070",
   "metadata": {},
   "outputs": [
    {
     "name": "stdout",
     "output_type": "stream",
     "text": [
      "3725\n"
     ]
    }
   ],
   "source": [
    "c23_p22['Comment Text']=c23_p22['Comment Text'].astype(str)\n",
    "\n",
    "sen23 = [i for i in c23_p22['Comment Text']]\n",
    "sen23 = ' '.join(sen23)\n",
    "\n",
    "char = [i for i in sen23]\n",
    "\n",
    "emojis_found = []\n",
    "\n",
    "for i in char:\n",
    "    if emoji.is_emoji(i):\n",
    "        emojis_found.append(i)\n",
    "\n",
    "print(len(emojis_found))  "
   ]
  },
  {
   "cell_type": "code",
   "execution_count": 13,
   "id": "f620cde1",
   "metadata": {},
   "outputs": [
    {
     "name": "stdout",
     "output_type": "stream",
     "text": [
      "881\n"
     ]
    }
   ],
   "source": [
    "first_emojis = []\n",
    "\n",
    "for comment in c23_p22['Comment Text']:\n",
    "    emoji_found = False\n",
    "    for char in comment:\n",
    "        if emoji.is_emoji(char):\n",
    "            first_emojis.append(char)\n",
    "            emoji_found = True\n",
    "            break  \n",
    "    if not emoji_found:\n",
    "        first_emojis.append(None) \n",
    "\n",
    "emojipercommnet = []\n",
    "\n",
    "for i in first_emojis:\n",
    "    if emoji.is_emoji(i):\n",
    "        emojipercommnet.append(i)\n",
    "\n",
    "print(len(emojipercommnet)) "
   ]
  }
 ],
 "metadata": {
  "kernelspec": {
   "display_name": "Python 3 (ipykernel)",
   "language": "python",
   "name": "python3"
  },
  "language_info": {
   "codemirror_mode": {
    "name": "ipython",
    "version": 3
   },
   "file_extension": ".py",
   "mimetype": "text/x-python",
   "name": "python",
   "nbconvert_exporter": "python",
   "pygments_lexer": "ipython3",
   "version": "3.9.13"
  }
 },
 "nbformat": 4,
 "nbformat_minor": 5
}
