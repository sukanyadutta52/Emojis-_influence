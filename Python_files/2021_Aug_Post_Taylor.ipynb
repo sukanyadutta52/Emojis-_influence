{
 "cells": [
  {
   "cell_type": "code",
   "execution_count": 13,
   "id": "e108f53d",
   "metadata": {},
   "outputs": [],
   "source": [
    "import os\n",
    "import pandas as pd \n",
    "import emoji"
   ]
  },
  {
   "cell_type": "code",
   "execution_count": 14,
   "id": "3f6d7077",
   "metadata": {},
   "outputs": [],
   "source": [
    "def explore_directory(root_dir):\n",
    "    for root, dirs, files in os.walk(root_dir):\n",
    "        for file in files:\n",
    "            if file.endswith(\".csv\"):\n",
    "                file_path = os.path.join(root, file)\n",
    "                yield file_path"
   ]
  },
  {
   "cell_type": "code",
   "execution_count": 15,
   "id": "00d0d46e",
   "metadata": {},
   "outputs": [],
   "source": [
    "root_directory = \"C:\\\\Users\\\\sukan\\\\OneDrive\\\\Desktop\\\\Python\\\\FBcomments\\\\Taylor_Swift\\\\2021\" "
   ]
  },
  {
   "cell_type": "code",
   "execution_count": 16,
   "id": "1c8e25df",
   "metadata": {},
   "outputs": [],
   "source": [
    "merged_df = pd.DataFrame()\n",
    "\n",
    "for csv_file in explore_directory(root_directory):\n",
    "    try:\n",
    "        df = pd.read_csv(csv_file)\n",
    "        merged_df = pd.concat([merged_df, df], ignore_index=True)\n",
    "        \n",
    "    except Exception as e:\n",
    "        print(f\"Error reading file {csv_file}: {str(e)}\")"
   ]
  },
  {
   "cell_type": "code",
   "execution_count": 17,
   "id": "a6c3b728",
   "metadata": {},
   "outputs": [
    {
     "name": "stdout",
     "output_type": "stream",
     "text": [
      "<class 'pandas.core.frame.DataFrame'>\n",
      "RangeIndex: 28868 entries, 0 to 28867\n",
      "Data columns (total 9 columns):\n",
      " #   Column         Non-Null Count  Dtype \n",
      "---  ------         --------------  ----- \n",
      " 0   User Id        28868 non-null  int64 \n",
      " 1   Username       28868 non-null  object\n",
      " 2   Comment Id     28868 non-null  object\n",
      " 3   Comment Text   27883 non-null  object\n",
      " 4   Reply Count    28868 non-null  int64 \n",
      " 5   Like Count     28868 non-null  int64 \n",
      " 6   Date           28868 non-null  object\n",
      " 7   Permalink URL  28868 non-null  object\n",
      " 8   Profile URL    28868 non-null  object\n",
      "dtypes: int64(3), object(6)\n",
      "memory usage: 2.0+ MB\n"
     ]
    }
   ],
   "source": [
    "merged_df.info()"
   ]
  },
  {
   "cell_type": "code",
   "execution_count": 7,
   "id": "adf404f4",
   "metadata": {},
   "outputs": [
    {
     "data": {
      "text/plain": [
       "array(['2021', '2022', '2023'], dtype=object)"
      ]
     },
     "execution_count": 7,
     "metadata": {},
     "output_type": "execute_result"
    }
   ],
   "source": [
    "merged_df['Year']= merged_df['Date'].apply(lambda x: x.split(',')[0][-4:])\n",
    "merged_df['Year'].unique()"
   ]
  },
  {
   "cell_type": "markdown",
   "id": "93f57498",
   "metadata": {},
   "source": [
    "# 2021"
   ]
  },
  {
   "cell_type": "code",
   "execution_count": 8,
   "id": "8aea019c",
   "metadata": {},
   "outputs": [
    {
     "name": "stdout",
     "output_type": "stream",
     "text": [
      "<class 'pandas.core.frame.DataFrame'>\n",
      "Int64Index: 28491 entries, 0 to 28867\n",
      "Data columns (total 2 columns):\n",
      " #   Column        Non-Null Count  Dtype \n",
      "---  ------        --------------  ----- \n",
      " 0   Year          28491 non-null  object\n",
      " 1   Comment Text  27516 non-null  object\n",
      "dtypes: object(2)\n",
      "memory usage: 667.8+ KB\n"
     ]
    }
   ],
   "source": [
    "c21_p21=pd.DataFrame(merged_df[merged_df['Year']=='2021'][['Year','Comment Text']])\n",
    "c21_p21.info()  "
   ]
  },
  {
   "cell_type": "code",
   "execution_count": 9,
   "id": "63418919",
   "metadata": {},
   "outputs": [
    {
     "name": "stdout",
     "output_type": "stream",
     "text": [
      "31689\n"
     ]
    }
   ],
   "source": [
    "c21_p21['Comment Text']=c21_p21['Comment Text'].astype(str)\n",
    "\n",
    "sen21 = [i for i in c21_p21['Comment Text']]\n",
    "sen21 = ' '.join(sen21)\n",
    "\n",
    "char = [i for i in sen21]\n",
    "\n",
    "emojis_found = []\n",
    "\n",
    "for i in char:\n",
    "    if emoji.is_emoji(i):\n",
    "        emojis_found.append(i)\n",
    "\n",
    "print(len(emojis_found))"
   ]
  },
  {
   "cell_type": "code",
   "execution_count": 10,
   "id": "bb03fa89",
   "metadata": {},
   "outputs": [
    {
     "name": "stdout",
     "output_type": "stream",
     "text": [
      "10216\n"
     ]
    }
   ],
   "source": [
    "first_emojis = []\n",
    "\n",
    "for comment in c21_p21['Comment Text']:\n",
    "    emoji_found = False\n",
    "    for char in comment:\n",
    "        if emoji.is_emoji(char):\n",
    "            first_emojis.append(char)\n",
    "            emoji_found = True\n",
    "            break   \n",
    "    if not emoji_found:\n",
    "        first_emojis.append(None) \n",
    "\n",
    "emojipercommnet = []\n",
    "\n",
    "for i in first_emojis:\n",
    "    if emoji.is_emoji(i):\n",
    "        emojipercommnet.append(i)\n",
    "\n",
    "print(len(emojipercommnet))"
   ]
  },
  {
   "cell_type": "markdown",
   "id": "f08682a7",
   "metadata": {},
   "source": [
    "# 2022"
   ]
  },
  {
   "cell_type": "code",
   "execution_count": 11,
   "id": "1c026197",
   "metadata": {},
   "outputs": [
    {
     "name": "stdout",
     "output_type": "stream",
     "text": [
      "<class 'pandas.core.frame.DataFrame'>\n",
      "Int64Index: 285 entries, 15 to 28860\n",
      "Data columns (total 2 columns):\n",
      " #   Column        Non-Null Count  Dtype \n",
      "---  ------        --------------  ----- \n",
      " 0   Year          285 non-null    object\n",
      " 1   Comment Text  276 non-null    object\n",
      "dtypes: object(2)\n",
      "memory usage: 6.7+ KB\n"
     ]
    }
   ],
   "source": [
    "c22_p21=pd.DataFrame(merged_df[merged_df['Year']=='2022'][['Year','Comment Text']])\n",
    "c22_p21.info()  "
   ]
  },
  {
   "cell_type": "code",
   "execution_count": 12,
   "id": "701b3127",
   "metadata": {},
   "outputs": [
    {
     "name": "stdout",
     "output_type": "stream",
     "text": [
      "546\n"
     ]
    }
   ],
   "source": [
    "c22_p21['Comment Text']=c22_p21['Comment Text'].astype(str)\n",
    "\n",
    "sen22 = [i for i in c22_p21['Comment Text']]\n",
    "sen22 = ' '.join(sen22)\n",
    "\n",
    "char = [i for i in sen22]\n",
    "\n",
    "emojis_found = []\n",
    "\n",
    "for i in char:\n",
    "    if emoji.is_emoji(i):\n",
    "        emojis_found.append(i)\n",
    "\n",
    "print(len(emojis_found))"
   ]
  },
  {
   "cell_type": "code",
   "execution_count": 13,
   "id": "ff6fc49f",
   "metadata": {},
   "outputs": [
    {
     "name": "stdout",
     "output_type": "stream",
     "text": [
      "77\n"
     ]
    }
   ],
   "source": [
    "first_emojis = []\n",
    "\n",
    "for comment in c22_p21['Comment Text']:\n",
    "    emoji_found = False\n",
    "    for char in comment:\n",
    "        if emoji.is_emoji(char):\n",
    "            first_emojis.append(char)\n",
    "            emoji_found = True\n",
    "            break  \n",
    "    if not emoji_found:\n",
    "        first_emojis.append(None)   \n",
    "\n",
    "emojipercommnet = []\n",
    "\n",
    "for i in first_emojis:\n",
    "    if emoji.is_emoji(i):\n",
    "        emojipercommnet.append(i)\n",
    "\n",
    "print(len(emojipercommnet))"
   ]
  },
  {
   "cell_type": "markdown",
   "id": "4203e2e6",
   "metadata": {},
   "source": [
    "# 2023"
   ]
  },
  {
   "cell_type": "code",
   "execution_count": 15,
   "id": "ff222040",
   "metadata": {},
   "outputs": [
    {
     "name": "stdout",
     "output_type": "stream",
     "text": [
      "<class 'pandas.core.frame.DataFrame'>\n",
      "Int64Index: 92 entries, 155 to 28854\n",
      "Data columns (total 2 columns):\n",
      " #   Column        Non-Null Count  Dtype \n",
      "---  ------        --------------  ----- \n",
      " 0   Year          92 non-null     object\n",
      " 1   Comment Text  91 non-null     object\n",
      "dtypes: object(2)\n",
      "memory usage: 2.2+ KB\n"
     ]
    }
   ],
   "source": [
    "c23_p21=pd.DataFrame(merged_df[merged_df['Year']=='2023'][['Year','Comment Text']])\n",
    "c23_p21.info()  "
   ]
  },
  {
   "cell_type": "code",
   "execution_count": 16,
   "id": "aa9b6cc2",
   "metadata": {},
   "outputs": [
    {
     "name": "stdout",
     "output_type": "stream",
     "text": [
      "108\n"
     ]
    }
   ],
   "source": [
    "c23_p21['Comment Text']=c23_p21['Comment Text'].astype(str)\n",
    "\n",
    "sen23 = [i for i in c23_p21['Comment Text']]\n",
    "sen23 = ' '.join(sen23)\n",
    "\n",
    "char = [i for i in sen23]\n",
    "\n",
    "emojis_found = []\n",
    "\n",
    "for i in char:\n",
    "    if emoji.is_emoji(i):\n",
    "        emojis_found.append(i)\n",
    "\n",
    "print(len(emojis_found))"
   ]
  },
  {
   "cell_type": "code",
   "execution_count": 17,
   "id": "ce5beb3d",
   "metadata": {},
   "outputs": [
    {
     "name": "stdout",
     "output_type": "stream",
     "text": [
      "38\n"
     ]
    }
   ],
   "source": [
    "first_emojis = []\n",
    "\n",
    "for comment in c23_p21['Comment Text']:\n",
    "    emoji_found = False\n",
    "    for char in comment:\n",
    "        if emoji.is_emoji(char):\n",
    "            first_emojis.append(char)\n",
    "            emoji_found = True\n",
    "            break   \n",
    "    if not emoji_found:\n",
    "        first_emojis.append(None)\n",
    "\n",
    "emojipercommnet = []\n",
    "\n",
    "for i in first_emojis:\n",
    "    if emoji.is_emoji(i):\n",
    "        emojipercommnet.append(i)\n",
    "\n",
    "print(len(emojipercommnet))"
   ]
  }
 ],
 "metadata": {
  "kernelspec": {
   "display_name": "Python 3 (ipykernel)",
   "language": "python",
   "name": "python3"
  },
  "language_info": {
   "codemirror_mode": {
    "name": "ipython",
    "version": 3
   },
   "file_extension": ".py",
   "mimetype": "text/x-python",
   "name": "python",
   "nbconvert_exporter": "python",
   "pygments_lexer": "ipython3",
   "version": "3.9.13"
  }
 },
 "nbformat": 4,
 "nbformat_minor": 5
}
