{
 "cells": [
  {
   "cell_type": "code",
   "execution_count": 1,
   "id": "d730a9ac",
   "metadata": {},
   "outputs": [
    {
     "data": {
      "text/html": [
       "<div>\n",
       "<style scoped>\n",
       "    .dataframe tbody tr th:only-of-type {\n",
       "        vertical-align: middle;\n",
       "    }\n",
       "\n",
       "    .dataframe tbody tr th {\n",
       "        vertical-align: top;\n",
       "    }\n",
       "\n",
       "    .dataframe thead th {\n",
       "        text-align: right;\n",
       "    }\n",
       "</style>\n",
       "<table border=\"1\" class=\"dataframe\">\n",
       "  <thead>\n",
       "    <tr style=\"text-align: right;\">\n",
       "      <th></th>\n",
       "      <th>User Id</th>\n",
       "      <th>Username</th>\n",
       "      <th>Comment Id</th>\n",
       "      <th>Comment Text</th>\n",
       "      <th>Reply Count</th>\n",
       "      <th>Like Count</th>\n",
       "      <th>Date</th>\n",
       "      <th>Permalink URL</th>\n",
       "      <th>Profile URL</th>\n",
       "    </tr>\n",
       "  </thead>\n",
       "  <tbody>\n",
       "    <tr>\n",
       "      <th>0</th>\n",
       "      <td>100008962682967</td>\n",
       "      <td>Lia Grajales</td>\n",
       "      <td>10153149745060369_10153150041120369</td>\n",
       "      <td>Zendaya and taylor swift ❤❤❤❤❤❤❤❤</td>\n",
       "      <td>1</td>\n",
       "      <td>108</td>\n",
       "      <td>8/1/2015, 9:54:22 PM</td>\n",
       "      <td>https://www.facebook.com/TaylorSwift/videos/10...</td>\n",
       "      <td>https://www.facebook.com/profile.php?id=100008...</td>\n",
       "    </tr>\n",
       "  </tbody>\n",
       "</table>\n",
       "</div>"
      ],
      "text/plain": [
       "           User Id      Username                           Comment Id  \\\n",
       "0  100008962682967  Lia Grajales  10153149745060369_10153150041120369   \n",
       "\n",
       "                        Comment Text  Reply Count  Like Count  \\\n",
       "0  Zendaya and taylor swift ❤❤❤❤❤❤❤❤            1         108   \n",
       "\n",
       "                   Date                                      Permalink URL  \\\n",
       "0  8/1/2015, 9:54:22 PM  https://www.facebook.com/TaylorSwift/videos/10...   \n",
       "\n",
       "                                         Profile URL  \n",
       "0  https://www.facebook.com/profile.php?id=100008...  "
      ]
     },
     "execution_count": 1,
     "metadata": {},
     "output_type": "execute_result"
    }
   ],
   "source": [
    "import pandas as pd\n",
    "\n",
    "df1=pd.read_csv(\"C:\\\\Users\\\\sukan\\\\OneDrive\\\\Desktop\\\\Udemy_courses_notes\\\\Python\\\\FBcomments\\\\Taylor_Swift\\\\2015\\\\1Aug1_15.csv\",header=0)\n",
    "df2=pd.read_csv(\"C:\\\\Users\\\\sukan\\\\OneDrive\\\\Desktop\\\\Udemy_courses_notes\\\\Python\\\\FBcomments\\\\Taylor_Swift\\\\2015\\\\1Aug2_15.csv\",header=0)\n",
    "\n",
    "df=pd.concat([df1,df2])\n",
    "\n",
    "df.head(1)"
   ]
  },
  {
   "cell_type": "code",
   "execution_count": 2,
   "id": "d252f0cb",
   "metadata": {
    "scrolled": true
   },
   "outputs": [
    {
     "name": "stdout",
     "output_type": "stream",
     "text": [
      "<class 'pandas.core.frame.DataFrame'>\n",
      "Int64Index: 1654 entries, 0 to 424\n",
      "Data columns (total 9 columns):\n",
      " #   Column         Non-Null Count  Dtype \n",
      "---  ------         --------------  ----- \n",
      " 0   User Id        1654 non-null   int64 \n",
      " 1   Username       1654 non-null   object\n",
      " 2   Comment Id     1654 non-null   object\n",
      " 3   Comment Text   1651 non-null   object\n",
      " 4   Reply Count    1654 non-null   int64 \n",
      " 5   Like Count     1654 non-null   int64 \n",
      " 6   Date           1654 non-null   object\n",
      " 7   Permalink URL  1654 non-null   object\n",
      " 8   Profile URL    1654 non-null   object\n",
      "dtypes: int64(3), object(6)\n",
      "memory usage: 129.2+ KB\n"
     ]
    }
   ],
   "source": [
    "df.info()"
   ]
  },
  {
   "cell_type": "code",
   "execution_count": 107,
   "id": "7bbd3c59",
   "metadata": {},
   "outputs": [
    {
     "data": {
      "text/plain": [
       "array(['2015', '2021', '2016', '2017'], dtype=object)"
      ]
     },
     "execution_count": 107,
     "metadata": {},
     "output_type": "execute_result"
    }
   ],
   "source": [
    "df['Year']= df['Date'].apply(lambda x: x.split(',')[0][-4:])\n",
    "df['Year'].unique()"
   ]
  },
  {
   "cell_type": "markdown",
   "id": "f2887cfc",
   "metadata": {},
   "source": [
    "# year 2015 in 2015post"
   ]
  },
  {
   "cell_type": "code",
   "execution_count": 108,
   "id": "f287a74e",
   "metadata": {},
   "outputs": [
    {
     "name": "stdout",
     "output_type": "stream",
     "text": [
      "<class 'pandas.core.frame.DataFrame'>\n",
      "Int64Index: 1624 entries, 0 to 424\n",
      "Data columns (total 2 columns):\n",
      " #   Column        Non-Null Count  Dtype \n",
      "---  ------        --------------  ----- \n",
      " 0   Year          1624 non-null   object\n",
      " 1   Comment Text  1622 non-null   object\n",
      "dtypes: object(2)\n",
      "memory usage: 38.1+ KB\n"
     ]
    }
   ],
   "source": [
    "c15_p15=pd.DataFrame(df[df['Year']=='2015'][['Year','Comment Text']])\n",
    "c15_p15.info()"
   ]
  },
  {
   "cell_type": "code",
   "execution_count": 109,
   "id": "00d2fadd",
   "metadata": {},
   "outputs": [],
   "source": [
    "c15_p15['Comment Text']=c15_p15['Comment Text'].astype(str)"
   ]
  },
  {
   "cell_type": "code",
   "execution_count": 111,
   "id": "af32d6db",
   "metadata": {},
   "outputs": [
    {
     "name": "stdout",
     "output_type": "stream",
     "text": [
      "1066\n"
     ]
    }
   ],
   "source": [
    "sen15 = [i for i in c15_p15['Comment Text']]\n",
    "sen15 = ' '.join(sen15) \n",
    "\n",
    "characters = [i for i in sen15]\n",
    "\n",
    "import emoji\n",
    "\n",
    "emojis_found = []\n",
    "\n",
    "for i in characters:\n",
    "    if emoji.is_emoji(i):\n",
    "        emojis_found.append(i)\n",
    "\n",
    "print(len(emojis_found))"
   ]
  },
  {
   "cell_type": "code",
   "execution_count": 113,
   "id": "70aa6f40",
   "metadata": {},
   "outputs": [
    {
     "name": "stdout",
     "output_type": "stream",
     "text": [
      "320\n"
     ]
    }
   ],
   "source": [
    "first_emojis = []\n",
    "\n",
    "for comment in c15_p15['Comment Text']:\n",
    "    emoji_found = False\n",
    "    for char in comment:\n",
    "        if emoji.is_emoji(char):\n",
    "            first_emojis.append(char)\n",
    "            emoji_found = True\n",
    "            break  \n",
    "    if not emoji_found:\n",
    "        first_emojis.append(None)  \n",
    "\n",
    "emojipercommnet = []\n",
    "\n",
    "for i in first_emojis:\n",
    "    if emoji.is_emoji(i):\n",
    "        emojipercommnet.append(i)\n",
    "\n",
    "print(len(emojipercommnet))"
   ]
  },
  {
   "cell_type": "markdown",
   "id": "3d872e10",
   "metadata": {},
   "source": [
    "# year 2016 in 2015post"
   ]
  },
  {
   "cell_type": "code",
   "execution_count": 59,
   "id": "08f25826",
   "metadata": {},
   "outputs": [
    {
     "name": "stdout",
     "output_type": "stream",
     "text": [
      "<class 'pandas.core.frame.DataFrame'>\n",
      "Int64Index: 9 entries, 477 to 363\n",
      "Data columns (total 2 columns):\n",
      " #   Column        Non-Null Count  Dtype \n",
      "---  ------        --------------  ----- \n",
      " 0   Year          9 non-null      object\n",
      " 1   Comment Text  8 non-null      object\n",
      "dtypes: object(2)\n",
      "memory usage: 216.0+ bytes\n"
     ]
    }
   ],
   "source": [
    "c16_p15=pd.DataFrame(df[df['Year']=='2016'][['Year','Comment Text']])\n",
    "c16_p15.info()"
   ]
  },
  {
   "cell_type": "code",
   "execution_count": 60,
   "id": "652e48f5",
   "metadata": {},
   "outputs": [],
   "source": [
    "c16_p15['Comment Text']=c16_p15['Comment Text'].astype(str)"
   ]
  },
  {
   "cell_type": "code",
   "execution_count": 114,
   "id": "7f0071a2",
   "metadata": {},
   "outputs": [
    {
     "name": "stdout",
     "output_type": "stream",
     "text": [
      "0\n"
     ]
    }
   ],
   "source": [
    "sen16 = [i for i in c16_p15['Comment Text']]\n",
    "sen16 = ' '.join(sen16) \n",
    "\n",
    "characters = [i for i in sen16]\n",
    "\n",
    "emojis_found = []\n",
    "\n",
    "for i in characters:\n",
    "    if emoji.is_emoji(i):\n",
    "        emojis_found.append(i)\n",
    "\n",
    "print(len(emojis_found))"
   ]
  },
  {
   "cell_type": "markdown",
   "id": "8361c223",
   "metadata": {},
   "source": [
    "# year 2017 in 2015post"
   ]
  },
  {
   "cell_type": "code",
   "execution_count": 115,
   "id": "a7daf1f5",
   "metadata": {},
   "outputs": [
    {
     "name": "stdout",
     "output_type": "stream",
     "text": [
      "<class 'pandas.core.frame.DataFrame'>\n",
      "Int64Index: 2 entries, 916 to 357\n",
      "Data columns (total 2 columns):\n",
      " #   Column        Non-Null Count  Dtype \n",
      "---  ------        --------------  ----- \n",
      " 0   Year          2 non-null      object\n",
      " 1   Comment Text  2 non-null      object\n",
      "dtypes: object(2)\n",
      "memory usage: 48.0+ bytes\n"
     ]
    }
   ],
   "source": [
    "c17_p15=pd.DataFrame(df[df['Year']=='2017'][['Year','Comment Text']])\n",
    "c17_p15.info()"
   ]
  },
  {
   "cell_type": "code",
   "execution_count": 116,
   "id": "a5809f3e",
   "metadata": {},
   "outputs": [],
   "source": [
    "c17_p15['Comment Text']=c17_p15['Comment Text'].astype(str)"
   ]
  },
  {
   "cell_type": "code",
   "execution_count": 117,
   "id": "caaddc77",
   "metadata": {},
   "outputs": [
    {
     "name": "stdout",
     "output_type": "stream",
     "text": [
      "2\n"
     ]
    }
   ],
   "source": [
    "sen17 = [i for i in c17_p15['Comment Text']]\n",
    "sen17 = ' '.join(sen17)\n",
    "\n",
    "characters = [i for i in sen17]\n",
    "\n",
    "emojis_found = []\n",
    "\n",
    "for i in characters:\n",
    "    if emoji.is_emoji(i):\n",
    "        emojis_found.append(i)\n",
    "\n",
    "print(len(emojis_found))"
   ]
  },
  {
   "cell_type": "code",
   "execution_count": 123,
   "id": "fee5e533",
   "metadata": {},
   "outputs": [
    {
     "name": "stdout",
     "output_type": "stream",
     "text": [
      "1\n"
     ]
    }
   ],
   "source": [
    "first_emojis = []\n",
    "\n",
    "for comment in c17_p15['Comment Text']:\n",
    "    emoji_found = False\n",
    "    for char in comment:\n",
    "        if emoji.is_emoji(char):\n",
    "            first_emojis.append(char)\n",
    "            emoji_found = True\n",
    "            break \n",
    "    if not emoji_found:\n",
    "        first_emojis.append(None) \n",
    "\n",
    "emojipercommnet = []\n",
    "\n",
    "for i in first_emojis:\n",
    "    if emoji.is_emoji(i):\n",
    "        emojipercommnet.append(i)\n",
    "\n",
    "print(len(emojipercommnet))"
   ]
  },
  {
   "cell_type": "markdown",
   "id": "887ed5b9",
   "metadata": {},
   "source": [
    "# year 2021 in 2015post"
   ]
  },
  {
   "cell_type": "code",
   "execution_count": 129,
   "id": "7413c255",
   "metadata": {
    "scrolled": true
   },
   "outputs": [
    {
     "name": "stdout",
     "output_type": "stream",
     "text": [
      "<class 'pandas.core.frame.DataFrame'>\n",
      "Int64Index: 19 entries, 231 to 75\n",
      "Data columns (total 2 columns):\n",
      " #   Column        Non-Null Count  Dtype \n",
      "---  ------        --------------  ----- \n",
      " 0   Year          19 non-null     object\n",
      " 1   Comment Text  19 non-null     object\n",
      "dtypes: object(2)\n",
      "memory usage: 456.0+ bytes\n"
     ]
    }
   ],
   "source": [
    "c21_p15=pd.DataFrame(df[df['Year']=='2021'][['Year','Comment Text']])\n",
    "c21_p15.info()"
   ]
  },
  {
   "cell_type": "code",
   "execution_count": 130,
   "id": "eefbe6f3",
   "metadata": {},
   "outputs": [],
   "source": [
    "c21_p15['Comment Text']=c21_p15['Comment Text'].astype(str)"
   ]
  },
  {
   "cell_type": "code",
   "execution_count": 131,
   "id": "ccb0913a",
   "metadata": {},
   "outputs": [
    {
     "name": "stdout",
     "output_type": "stream",
     "text": [
      "26\n"
     ]
    }
   ],
   "source": [
    "sen21 = [i for i in c21_p15['Comment Text']]\n",
    "sen21 = ' '.join(sen21)\n",
    "\n",
    "characters = [i for i in sen21]\n",
    "\n",
    "emojis_found = []\n",
    "\n",
    "for i in characters:\n",
    "    if emoji.is_emoji(i):\n",
    "        emojis_found.append(i)\n",
    "\n",
    "print(len(emojis_found))"
   ]
  },
  {
   "cell_type": "code",
   "execution_count": 133,
   "id": "26c15281",
   "metadata": {},
   "outputs": [
    {
     "name": "stdout",
     "output_type": "stream",
     "text": [
      "7\n"
     ]
    }
   ],
   "source": [
    "first_emojis = []\n",
    "\n",
    "for comment in c21_p15['Comment Text']:\n",
    "    emoji_found = False\n",
    "    for char in comment:\n",
    "        if emoji.is_emoji(char):\n",
    "            first_emojis.append(char)\n",
    "            emoji_found = True\n",
    "            break  \n",
    "    if not emoji_found:\n",
    "        first_emojis.append(None) \n",
    "\n",
    "emojipercommnet = []\n",
    "\n",
    "for i in first_emojis:\n",
    "    if emoji.is_emoji(i):\n",
    "        emojipercommnet.append(i)\n",
    "\n",
    "print(len(emojipercommnet))"
   ]
  }
 ],
 "metadata": {
  "kernelspec": {
   "display_name": "Python 3 (ipykernel)",
   "language": "python",
   "name": "python3"
  },
  "language_info": {
   "codemirror_mode": {
    "name": "ipython",
    "version": 3
   },
   "file_extension": ".py",
   "mimetype": "text/x-python",
   "name": "python",
   "nbconvert_exporter": "python",
   "pygments_lexer": "ipython3",
   "version": "3.9.13"
  }
 },
 "nbformat": 4,
 "nbformat_minor": 5
}
