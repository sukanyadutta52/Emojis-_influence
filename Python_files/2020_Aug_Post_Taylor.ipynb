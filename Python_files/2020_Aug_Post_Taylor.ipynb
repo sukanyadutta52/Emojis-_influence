{
 "cells": [
  {
   "cell_type": "code",
   "execution_count": 1,
   "id": "561b0e29",
   "metadata": {},
   "outputs": [],
   "source": [
    "import os\n",
    "import pandas as pd \n",
    "import emoji"
   ]
  },
  {
   "cell_type": "code",
   "execution_count": 2,
   "id": "720dee4c",
   "metadata": {},
   "outputs": [],
   "source": [
    "def explore_directory(root_dir):\n",
    "    for root, dirs, files in os.walk(root_dir):\n",
    "        for file in files:\n",
    "            if file.endswith(\".csv\"):\n",
    "                file_path = os.path.join(root, file)\n",
    "                yield file_path"
   ]
  },
  {
   "cell_type": "code",
   "execution_count": 3,
   "id": "0a6979b4",
   "metadata": {},
   "outputs": [],
   "source": [
    "root_directory = \"C:\\\\Users\\\\sukan\\\\OneDrive\\\\Desktop\\\\Python\\\\FBcomments\\\\Taylor_Swift\\\\2020\" "
   ]
  },
  {
   "cell_type": "code",
   "execution_count": 4,
   "id": "d13f285d",
   "metadata": {},
   "outputs": [],
   "source": [
    "merged_df = pd.DataFrame()\n",
    "\n",
    "for csv_file in explore_directory(root_directory):\n",
    "    try:\n",
    "        df = pd.read_csv(csv_file)\n",
    "        merged_df = pd.concat([merged_df, df], ignore_index=True)\n",
    "        \n",
    "    except Exception as e:\n",
    "        print(f\"Error reading file {csv_file}: {str(e)}\")"
   ]
  },
  {
   "cell_type": "code",
   "execution_count": 5,
   "id": "f3e46746",
   "metadata": {},
   "outputs": [
    {
     "data": {
      "text/html": [
       "<div>\n",
       "<style scoped>\n",
       "    .dataframe tbody tr th:only-of-type {\n",
       "        vertical-align: middle;\n",
       "    }\n",
       "\n",
       "    .dataframe tbody tr th {\n",
       "        vertical-align: top;\n",
       "    }\n",
       "\n",
       "    .dataframe thead th {\n",
       "        text-align: right;\n",
       "    }\n",
       "</style>\n",
       "<table border=\"1\" class=\"dataframe\">\n",
       "  <thead>\n",
       "    <tr style=\"text-align: right;\">\n",
       "      <th></th>\n",
       "      <th>User Id</th>\n",
       "      <th>Username</th>\n",
       "      <th>Comment Id</th>\n",
       "      <th>Comment Text</th>\n",
       "      <th>Reply Count</th>\n",
       "      <th>Like Count</th>\n",
       "      <th>Date</th>\n",
       "      <th>Permalink URL</th>\n",
       "      <th>Profile URL</th>\n",
       "    </tr>\n",
       "  </thead>\n",
       "  <tbody>\n",
       "    <tr>\n",
       "      <th>0</th>\n",
       "      <td>100001207012373</td>\n",
       "      <td>Juan Guillermo Collante</td>\n",
       "      <td>10157960587775369_10157960611050369</td>\n",
       "      <td>in the midst of a pandemic, in the midst of a ...</td>\n",
       "      <td>6</td>\n",
       "      <td>56</td>\n",
       "      <td>8/17/2020, 6:47:21 PM</td>\n",
       "      <td>https://www.facebook.com/19614945368/posts/pfb...</td>\n",
       "      <td>https://www.facebook.com/profile.php?id=100001...</td>\n",
       "    </tr>\n",
       "  </tbody>\n",
       "</table>\n",
       "</div>"
      ],
      "text/plain": [
       "           User Id                 Username  \\\n",
       "0  100001207012373  Juan Guillermo Collante   \n",
       "\n",
       "                            Comment Id  \\\n",
       "0  10157960587775369_10157960611050369   \n",
       "\n",
       "                                        Comment Text  Reply Count  Like Count  \\\n",
       "0  in the midst of a pandemic, in the midst of a ...            6          56   \n",
       "\n",
       "                    Date                                      Permalink URL  \\\n",
       "0  8/17/2020, 6:47:21 PM  https://www.facebook.com/19614945368/posts/pfb...   \n",
       "\n",
       "                                         Profile URL  \n",
       "0  https://www.facebook.com/profile.php?id=100001...  "
      ]
     },
     "execution_count": 5,
     "metadata": {},
     "output_type": "execute_result"
    }
   ],
   "source": [
    "merged_df.head(1)"
   ]
  },
  {
   "cell_type": "code",
   "execution_count": 6,
   "id": "1a793a21",
   "metadata": {},
   "outputs": [
    {
     "name": "stdout",
     "output_type": "stream",
     "text": [
      "<class 'pandas.core.frame.DataFrame'>\n",
      "RangeIndex: 17147 entries, 0 to 17146\n",
      "Data columns (total 9 columns):\n",
      " #   Column         Non-Null Count  Dtype \n",
      "---  ------         --------------  ----- \n",
      " 0   User Id        17147 non-null  int64 \n",
      " 1   Username       17147 non-null  object\n",
      " 2   Comment Id     17147 non-null  object\n",
      " 3   Comment Text   15586 non-null  object\n",
      " 4   Reply Count    17147 non-null  int64 \n",
      " 5   Like Count     17147 non-null  int64 \n",
      " 6   Date           17147 non-null  object\n",
      " 7   Permalink URL  17147 non-null  object\n",
      " 8   Profile URL    17147 non-null  object\n",
      "dtypes: int64(3), object(6)\n",
      "memory usage: 1.2+ MB\n"
     ]
    }
   ],
   "source": [
    "merged_df.info()"
   ]
  },
  {
   "cell_type": "code",
   "execution_count": 7,
   "id": "9a89b9ae",
   "metadata": {},
   "outputs": [
    {
     "data": {
      "text/plain": [
       "array(['2020', '2021', '2022', '2023'], dtype=object)"
      ]
     },
     "execution_count": 7,
     "metadata": {},
     "output_type": "execute_result"
    }
   ],
   "source": [
    "merged_df['Year']= merged_df['Date'].apply(lambda x: x.split(',')[0][-4:])\n",
    "merged_df['Year'].unique()"
   ]
  },
  {
   "cell_type": "markdown",
   "id": "41bae8f2",
   "metadata": {},
   "source": [
    "# 2020"
   ]
  },
  {
   "cell_type": "code",
   "execution_count": 8,
   "id": "2b89a6f3",
   "metadata": {
    "collapsed": true
   },
   "outputs": [
    {
     "name": "stdout",
     "output_type": "stream",
     "text": [
      "<class 'pandas.core.frame.DataFrame'>\n",
      "Int64Index: 16795 entries, 0 to 17141\n",
      "Data columns (total 2 columns):\n",
      " #   Column        Non-Null Count  Dtype \n",
      "---  ------        --------------  ----- \n",
      " 0   Year          16795 non-null  object\n",
      " 1   Comment Text  15249 non-null  object\n",
      "dtypes: object(2)\n",
      "memory usage: 393.6+ KB\n"
     ]
    }
   ],
   "source": [
    "c20_p20=pd.DataFrame(merged_df[merged_df['Year']=='2020'][['Year','Comment Text']])\n",
    "c20_p20.info()  "
   ]
  },
  {
   "cell_type": "code",
   "execution_count": 9,
   "id": "ece2bbdf",
   "metadata": {},
   "outputs": [
    {
     "name": "stdout",
     "output_type": "stream",
     "text": [
      "29129\n"
     ]
    }
   ],
   "source": [
    "c20_p20['Comment Text']=c20_p20['Comment Text'].astype(str)\n",
    "\n",
    "sen20 = [i for i in c20_p20['Comment Text']]\n",
    "sen20 = ' '.join(sen20)\n",
    "\n",
    "char = [i for i in sen20]\n",
    "\n",
    "emojis_found = []\n",
    "\n",
    "for i in char:\n",
    "    if emoji.is_emoji(i):\n",
    "        emojis_found.append(i)\n",
    "\n",
    "print(len(emojis_found))"
   ]
  },
  {
   "cell_type": "code",
   "execution_count": 10,
   "id": "a1795ffa",
   "metadata": {},
   "outputs": [
    {
     "name": "stdout",
     "output_type": "stream",
     "text": [
      "7118\n"
     ]
    }
   ],
   "source": [
    "first_emojis = []\n",
    "\n",
    "for comment in c20_p20['Comment Text']:\n",
    "    emoji_found = False\n",
    "    for char in comment:\n",
    "        if emoji.is_emoji(char):\n",
    "            first_emojis.append(char)\n",
    "            emoji_found = True\n",
    "            break   \n",
    "    if not emoji_found:\n",
    "        first_emojis.append(None)   \n",
    "\n",
    "emojipercommnet = []\n",
    "\n",
    "for i in first_emojis:\n",
    "    if emoji.is_emoji(i):\n",
    "        emojipercommnet.append(i)\n",
    "\n",
    "print(len(emojipercommnet))"
   ]
  },
  {
   "cell_type": "markdown",
   "id": "e5f2e8e6",
   "metadata": {},
   "source": [
    "# 2021"
   ]
  },
  {
   "cell_type": "code",
   "execution_count": 11,
   "id": "8d518234",
   "metadata": {
    "collapsed": true
   },
   "outputs": [
    {
     "name": "stdout",
     "output_type": "stream",
     "text": [
      "<class 'pandas.core.frame.DataFrame'>\n",
      "Int64Index: 232 entries, 54 to 17142\n",
      "Data columns (total 2 columns):\n",
      " #   Column        Non-Null Count  Dtype \n",
      "---  ------        --------------  ----- \n",
      " 0   Year          232 non-null    object\n",
      " 1   Comment Text  218 non-null    object\n",
      "dtypes: object(2)\n",
      "memory usage: 5.4+ KB\n"
     ]
    }
   ],
   "source": [
    "c21_p20=pd.DataFrame(merged_df[merged_df['Year']=='2021'][['Year','Comment Text']])\n",
    "c21_p20.info()  "
   ]
  },
  {
   "cell_type": "code",
   "execution_count": 12,
   "id": "2febdd3b",
   "metadata": {},
   "outputs": [
    {
     "name": "stdout",
     "output_type": "stream",
     "text": [
      "1017\n"
     ]
    }
   ],
   "source": [
    "c21_p20['Comment Text']=c21_p20['Comment Text'].astype(str)\n",
    "\n",
    "sen21 = [i for i in c21_p20['Comment Text']]\n",
    "sen21 = ' '.join(sen21)\n",
    "\n",
    "char = [i for i in sen21]\n",
    "\n",
    "emojis_found = []\n",
    "\n",
    "for i in char:\n",
    "    if emoji.is_emoji(i):\n",
    "        emojis_found.append(i)\n",
    "\n",
    "print(len(emojis_found))"
   ]
  },
  {
   "cell_type": "code",
   "execution_count": 13,
   "id": "5ab41f3f",
   "metadata": {},
   "outputs": [
    {
     "name": "stdout",
     "output_type": "stream",
     "text": [
      "93\n"
     ]
    }
   ],
   "source": [
    "first_emojis = []\n",
    "\n",
    "for comment in c21_p20['Comment Text']:\n",
    "    emoji_found = False\n",
    "    for char in comment:\n",
    "        if emoji.is_emoji(char):\n",
    "            first_emojis.append(char)\n",
    "            emoji_found = True\n",
    "            break  \n",
    "    if not emoji_found:\n",
    "        first_emojis.append(None) \n",
    "\n",
    "emojipercommnet = []\n",
    "\n",
    "for i in first_emojis:\n",
    "    if emoji.is_emoji(i):\n",
    "        emojipercommnet.append(i)\n",
    "\n",
    "print(len(emojipercommnet))"
   ]
  },
  {
   "cell_type": "markdown",
   "id": "20e0cd16",
   "metadata": {},
   "source": [
    "# 2022"
   ]
  },
  {
   "cell_type": "code",
   "execution_count": 14,
   "id": "6f561654",
   "metadata": {
    "collapsed": true
   },
   "outputs": [
    {
     "name": "stdout",
     "output_type": "stream",
     "text": [
      "<class 'pandas.core.frame.DataFrame'>\n",
      "Int64Index: 70 entries, 94 to 17145\n",
      "Data columns (total 2 columns):\n",
      " #   Column        Non-Null Count  Dtype \n",
      "---  ------        --------------  ----- \n",
      " 0   Year          70 non-null     object\n",
      " 1   Comment Text  69 non-null     object\n",
      "dtypes: object(2)\n",
      "memory usage: 1.6+ KB\n"
     ]
    }
   ],
   "source": [
    "c22_p20=pd.DataFrame(merged_df[merged_df['Year']=='2022'][['Year','Comment Text']])\n",
    "c22_p20.info()  "
   ]
  },
  {
   "cell_type": "code",
   "execution_count": 16,
   "id": "4be97e95",
   "metadata": {},
   "outputs": [
    {
     "name": "stdout",
     "output_type": "stream",
     "text": [
      "49\n"
     ]
    }
   ],
   "source": [
    "c22_p20['Comment Text']=c22_p20['Comment Text'].astype(str)\n",
    "\n",
    "sen22 = [i for i in c22_p20['Comment Text']]\n",
    "sen22 = ' '.join(sen22)\n",
    "\n",
    "char = [i for i in sen22]\n",
    "\n",
    "emojis_found = []\n",
    "\n",
    "for i in char:\n",
    "    if emoji.is_emoji(i):\n",
    "        emojis_found.append(i)\n",
    "\n",
    "print(len(emojis_found))"
   ]
  },
  {
   "cell_type": "code",
   "execution_count": 18,
   "id": "c044574c",
   "metadata": {},
   "outputs": [
    {
     "name": "stdout",
     "output_type": "stream",
     "text": [
      "18\n"
     ]
    }
   ],
   "source": [
    "first_emojis = []\n",
    "\n",
    "for comment in c22_p20['Comment Text']:\n",
    "    emoji_found = False\n",
    "    for char in comment:\n",
    "        if emoji.is_emoji(char):\n",
    "            first_emojis.append(char)\n",
    "            emoji_found = True\n",
    "            break   \n",
    "    if not emoji_found:\n",
    "        first_emojis.append(None)  \n",
    "\n",
    "emojipercommnet = []\n",
    "\n",
    "for i in first_emojis:\n",
    "    if emoji.is_emoji(i):\n",
    "        emojipercommnet.append(i)\n",
    "\n",
    "print(len(emojipercommnet))"
   ]
  },
  {
   "cell_type": "markdown",
   "id": "b2747fa7",
   "metadata": {},
   "source": [
    "# 2023"
   ]
  },
  {
   "cell_type": "code",
   "execution_count": 15,
   "id": "b0386aab",
   "metadata": {
    "collapsed": true
   },
   "outputs": [
    {
     "name": "stdout",
     "output_type": "stream",
     "text": [
      "<class 'pandas.core.frame.DataFrame'>\n",
      "Int64Index: 50 entries, 207 to 17146\n",
      "Data columns (total 2 columns):\n",
      " #   Column        Non-Null Count  Dtype \n",
      "---  ------        --------------  ----- \n",
      " 0   Year          50 non-null     object\n",
      " 1   Comment Text  50 non-null     object\n",
      "dtypes: object(2)\n",
      "memory usage: 1.2+ KB\n"
     ]
    }
   ],
   "source": [
    "c23_p20=pd.DataFrame(merged_df[merged_df['Year']=='2023'][['Year','Comment Text']])\n",
    "c23_p20.info()  "
   ]
  },
  {
   "cell_type": "code",
   "execution_count": 17,
   "id": "128a1b5e",
   "metadata": {},
   "outputs": [
    {
     "name": "stdout",
     "output_type": "stream",
     "text": [
      "72\n"
     ]
    }
   ],
   "source": [
    "c23_p20['Comment Text']=c23_p20['Comment Text'].astype(str)\n",
    "\n",
    "sen23 = [i for i in c23_p20['Comment Text']]\n",
    "sen23 = ' '.join(sen23)\n",
    "\n",
    "char = [i for i in sen23]\n",
    "\n",
    "emojis_found = []\n",
    "\n",
    "for i in char:\n",
    "    if emoji.is_emoji(i):\n",
    "        emojis_found.append(i)\n",
    "\n",
    "print(len(emojis_found))"
   ]
  },
  {
   "cell_type": "code",
   "execution_count": 19,
   "id": "1a44c490",
   "metadata": {},
   "outputs": [
    {
     "name": "stdout",
     "output_type": "stream",
     "text": [
      "19\n"
     ]
    }
   ],
   "source": [
    "first_emojis = []\n",
    "\n",
    "for comment in c23_p20['Comment Text']:\n",
    "    emoji_found = False\n",
    "    for char in comment:\n",
    "        if emoji.is_emoji(char):\n",
    "            first_emojis.append(char)\n",
    "            emoji_found = True\n",
    "            break  \n",
    "    if not emoji_found:\n",
    "        first_emojis.append(None)  \n",
    "\n",
    "emojipercommnet = []\n",
    "\n",
    "for i in first_emojis:\n",
    "    if emoji.is_emoji(i):\n",
    "        emojipercommnet.append(i)\n",
    "\n",
    "print(len(emojipercommnet))"
   ]
  }
 ],
 "metadata": {
  "kernelspec": {
   "display_name": "Python 3 (ipykernel)",
   "language": "python",
   "name": "python3"
  },
  "language_info": {
   "codemirror_mode": {
    "name": "ipython",
    "version": 3
   },
   "file_extension": ".py",
   "mimetype": "text/x-python",
   "name": "python",
   "nbconvert_exporter": "python",
   "pygments_lexer": "ipython3",
   "version": "3.9.13"
  }
 },
 "nbformat": 4,
 "nbformat_minor": 5
}
