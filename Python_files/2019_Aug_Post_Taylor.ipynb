{
 "cells": [
  {
   "cell_type": "code",
   "execution_count": 8,
   "id": "9a30a4f4",
   "metadata": {},
   "outputs": [],
   "source": [
    "import os\n",
    "import pandas as pd \n",
    "import emoji"
   ]
  },
  {
   "cell_type": "code",
   "execution_count": 10,
   "id": "6d62966f",
   "metadata": {},
   "outputs": [],
   "source": [
    "def explore_directory(root_dir):\n",
    "    for root, dirs, files in os.walk(root_dir):\n",
    "        for file in files:\n",
    "            if file.endswith(\".csv\"):\n",
    "                file_path = os.path.join(root, file)\n",
    "                yield file_path"
   ]
  },
  {
   "cell_type": "code",
   "execution_count": 11,
   "id": "1d755230",
   "metadata": {},
   "outputs": [],
   "source": [
    "root_directory = \"C:\\\\Users\\\\sukan\\\\OneDrive\\\\Desktop\\\\Python\\\\FBcomments\\\\Taylor_Swift\\\\2019\" "
   ]
  },
  {
   "cell_type": "code",
   "execution_count": 12,
   "id": "f7636141",
   "metadata": {},
   "outputs": [],
   "source": [
    "merged_df = pd.DataFrame()\n",
    "\n",
    "for csv_file in explore_directory(root_directory):\n",
    "    try:\n",
    "        df = pd.read_csv(csv_file)\n",
    "        merged_df = pd.concat([merged_df, df], ignore_index=True)\n",
    "        \n",
    "    except Exception as e:\n",
    "        print(f\"Error reading file {csv_file}: {str(e)}\")"
   ]
  },
  {
   "cell_type": "code",
   "execution_count": 13,
   "id": "00d30627",
   "metadata": {},
   "outputs": [
    {
     "data": {
      "text/html": [
       "<div>\n",
       "<style scoped>\n",
       "    .dataframe tbody tr th:only-of-type {\n",
       "        vertical-align: middle;\n",
       "    }\n",
       "\n",
       "    .dataframe tbody tr th {\n",
       "        vertical-align: top;\n",
       "    }\n",
       "\n",
       "    .dataframe thead th {\n",
       "        text-align: right;\n",
       "    }\n",
       "</style>\n",
       "<table border=\"1\" class=\"dataframe\">\n",
       "  <thead>\n",
       "    <tr style=\"text-align: right;\">\n",
       "      <th></th>\n",
       "      <th>User Id</th>\n",
       "      <th>Username</th>\n",
       "      <th>Comment Id</th>\n",
       "      <th>Comment Text</th>\n",
       "      <th>Reply Count</th>\n",
       "      <th>Like Count</th>\n",
       "      <th>Date</th>\n",
       "      <th>Permalink URL</th>\n",
       "      <th>Profile URL</th>\n",
       "    </tr>\n",
       "  </thead>\n",
       "  <tbody>\n",
       "    <tr>\n",
       "      <th>0</th>\n",
       "      <td>100000659220548</td>\n",
       "      <td>Allain Brutas</td>\n",
       "      <td>10156710504140369_2445317405697826</td>\n",
       "      <td>COME TO MANILA</td>\n",
       "      <td>0</td>\n",
       "      <td>17</td>\n",
       "      <td>8/11/2019, 3:04:58 AM</td>\n",
       "      <td>https://www.facebook.com/19614945368/posts/pfb...</td>\n",
       "      <td>https://www.facebook.com/profile.php?id=100000...</td>\n",
       "    </tr>\n",
       "  </tbody>\n",
       "</table>\n",
       "</div>"
      ],
      "text/plain": [
       "           User Id       Username                          Comment Id  \\\n",
       "0  100000659220548  Allain Brutas  10156710504140369_2445317405697826   \n",
       "\n",
       "     Comment Text  Reply Count  Like Count                   Date  \\\n",
       "0  COME TO MANILA            0          17  8/11/2019, 3:04:58 AM   \n",
       "\n",
       "                                       Permalink URL  \\\n",
       "0  https://www.facebook.com/19614945368/posts/pfb...   \n",
       "\n",
       "                                         Profile URL  \n",
       "0  https://www.facebook.com/profile.php?id=100000...  "
      ]
     },
     "execution_count": 13,
     "metadata": {},
     "output_type": "execute_result"
    }
   ],
   "source": [
    "merged_df.head(1)"
   ]
  },
  {
   "cell_type": "code",
   "execution_count": 14,
   "id": "c28fb13e",
   "metadata": {
    "scrolled": true
   },
   "outputs": [
    {
     "name": "stdout",
     "output_type": "stream",
     "text": [
      "<class 'pandas.core.frame.DataFrame'>\n",
      "RangeIndex: 196471 entries, 0 to 196470\n",
      "Data columns (total 9 columns):\n",
      " #   Column         Non-Null Count   Dtype \n",
      "---  ------         --------------   ----- \n",
      " 0   User Id        196471 non-null  int64 \n",
      " 1   Username       196471 non-null  object\n",
      " 2   Comment Id     196471 non-null  object\n",
      " 3   Comment Text   166988 non-null  object\n",
      " 4   Reply Count    196471 non-null  int64 \n",
      " 5   Like Count     196471 non-null  int64 \n",
      " 6   Date           196471 non-null  object\n",
      " 7   Permalink URL  196471 non-null  object\n",
      " 8   Profile URL    196471 non-null  object\n",
      "dtypes: int64(3), object(6)\n",
      "memory usage: 13.5+ MB\n"
     ]
    }
   ],
   "source": [
    "merged_df.info()"
   ]
  },
  {
   "cell_type": "code",
   "execution_count": 7,
   "id": "80a12400",
   "metadata": {},
   "outputs": [
    {
     "data": {
      "text/plain": [
       "array(['2019', '2023', '2021', '2022', '2020'], dtype=object)"
      ]
     },
     "execution_count": 7,
     "metadata": {},
     "output_type": "execute_result"
    }
   ],
   "source": [
    "merged_df['Year']= merged_df['Date'].apply(lambda x: x.split(',')[0][-4:])\n",
    "merged_df['Year'].unique()"
   ]
  },
  {
   "cell_type": "markdown",
   "id": "a86911f7",
   "metadata": {},
   "source": [
    "# 2019"
   ]
  },
  {
   "cell_type": "code",
   "execution_count": 10,
   "id": "6100db48",
   "metadata": {},
   "outputs": [
    {
     "name": "stdout",
     "output_type": "stream",
     "text": [
      "<class 'pandas.core.frame.DataFrame'>\n",
      "Int64Index: 185815 entries, 0 to 196460\n",
      "Data columns (total 2 columns):\n",
      " #   Column        Non-Null Count   Dtype \n",
      "---  ------        --------------   ----- \n",
      " 0   Year          185815 non-null  object\n",
      " 1   Comment Text  156871 non-null  object\n",
      "dtypes: object(2)\n",
      "memory usage: 4.3+ MB\n"
     ]
    }
   ],
   "source": [
    "c19_p19=pd.DataFrame(merged_df[merged_df['Year']=='2019'][['Year','Comment Text']])\n",
    "c19_p19.info()"
   ]
  },
  {
   "cell_type": "code",
   "execution_count": 11,
   "id": "f044ab5d",
   "metadata": {},
   "outputs": [
    {
     "name": "stdout",
     "output_type": "stream",
     "text": [
      "263814\n"
     ]
    }
   ],
   "source": [
    "c19_p19['Comment Text']=c19_p19['Comment Text'].astype(str)\n",
    "\n",
    "sen19 = [i for i in c19_p19['Comment Text']]\n",
    "sen19 = ' '.join(sen19)\n",
    "\n",
    "char = [i for i in sen19]\n",
    "\n",
    "emojis_found = []\n",
    "\n",
    "for i in char:\n",
    "    if emoji.is_emoji(i):\n",
    "        emojis_found.append(i)\n",
    "\n",
    "print(len(emojis_found))"
   ]
  },
  {
   "cell_type": "code",
   "execution_count": 12,
   "id": "fd8ffe36",
   "metadata": {},
   "outputs": [
    {
     "name": "stdout",
     "output_type": "stream",
     "text": [
      "86324\n"
     ]
    }
   ],
   "source": [
    "first_emojis = []\n",
    "\n",
    "for comment in c19_p19['Comment Text']:\n",
    "    emoji_found = False\n",
    "    for char in comment:\n",
    "        if emoji.is_emoji(char):\n",
    "            first_emojis.append(char)\n",
    "            emoji_found = True\n",
    "            break  \n",
    "    if not emoji_found:\n",
    "        first_emojis.append(None) \n",
    "\n",
    "emojipercommnet = []\n",
    "\n",
    "for i in first_emojis:\n",
    "    if emoji.is_emoji(i):\n",
    "        emojipercommnet.append(i)\n",
    "\n",
    "print(len(emojipercommnet))"
   ]
  },
  {
   "cell_type": "markdown",
   "id": "54096b53",
   "metadata": {},
   "source": [
    "# 2020"
   ]
  },
  {
   "cell_type": "code",
   "execution_count": 21,
   "id": "681c084f",
   "metadata": {},
   "outputs": [
    {
     "name": "stdout",
     "output_type": "stream",
     "text": [
      "<class 'pandas.core.frame.DataFrame'>\n",
      "Int64Index: 7306 entries, 28 to 196072\n",
      "Data columns (total 2 columns):\n",
      " #   Column        Non-Null Count  Dtype \n",
      "---  ------        --------------  ----- \n",
      " 0   Year          7306 non-null   object\n",
      " 1   Comment Text  6840 non-null   object\n",
      "dtypes: object(2)\n",
      "memory usage: 171.2+ KB\n"
     ]
    }
   ],
   "source": [
    "c20_p19=pd.DataFrame(merged_df[merged_df['Year']=='2020'][['Year','Comment Text']])\n",
    "c20_p19.info() "
   ]
  },
  {
   "cell_type": "code",
   "execution_count": 22,
   "id": "33381b4e",
   "metadata": {},
   "outputs": [
    {
     "name": "stdout",
     "output_type": "stream",
     "text": [
      "8513\n"
     ]
    }
   ],
   "source": [
    "c20_p19['Comment Text']=c20_p19['Comment Text'].astype(str)\n",
    "\n",
    "sen20 = [i for i in c20_p19['Comment Text']]\n",
    "sen20 = ' '.join(sen20)\n",
    "\n",
    "char = [i for i in sen20]\n",
    "\n",
    "emojis_found = []\n",
    "\n",
    "for i in char:\n",
    "    if emoji.is_emoji(i):\n",
    "        emojis_found.append(i)\n",
    "\n",
    "print(len(emojis_found))"
   ]
  },
  {
   "cell_type": "code",
   "execution_count": 23,
   "id": "0b6ac3a1",
   "metadata": {},
   "outputs": [
    {
     "name": "stdout",
     "output_type": "stream",
     "text": [
      "2159\n"
     ]
    }
   ],
   "source": [
    "first_emojis = []\n",
    "\n",
    "for comment in c20_p19['Comment Text']:\n",
    "    emoji_found = False\n",
    "    for char in comment:\n",
    "        if emoji.is_emoji(char):\n",
    "            first_emojis.append(char)\n",
    "            emoji_found = True\n",
    "            break  \n",
    "    if not emoji_found:\n",
    "        first_emojis.append(None) \n",
    "\n",
    "emojipercommnet = []\n",
    "\n",
    "for i in first_emojis:\n",
    "    if emoji.is_emoji(i):\n",
    "        emojipercommnet.append(i)\n",
    "\n",
    "print(len(emojipercommnet))"
   ]
  },
  {
   "cell_type": "markdown",
   "id": "88fe0060",
   "metadata": {},
   "source": [
    "# 2021"
   ]
  },
  {
   "cell_type": "code",
   "execution_count": 24,
   "id": "2c0cb607",
   "metadata": {},
   "outputs": [
    {
     "name": "stdout",
     "output_type": "stream",
     "text": [
      "<class 'pandas.core.frame.DataFrame'>\n",
      "Int64Index: 439 entries, 25 to 196462\n",
      "Data columns (total 2 columns):\n",
      " #   Column        Non-Null Count  Dtype \n",
      "---  ------        --------------  ----- \n",
      " 0   Year          439 non-null    object\n",
      " 1   Comment Text  418 non-null    object\n",
      "dtypes: object(2)\n",
      "memory usage: 10.3+ KB\n"
     ]
    }
   ],
   "source": [
    "c21_p19=pd.DataFrame(merged_df[merged_df['Year']=='2021'][['Year','Comment Text']])\n",
    "c21_p19.info() "
   ]
  },
  {
   "cell_type": "code",
   "execution_count": 25,
   "id": "0cd9215c",
   "metadata": {},
   "outputs": [
    {
     "name": "stdout",
     "output_type": "stream",
     "text": [
      "550\n"
     ]
    }
   ],
   "source": [
    "c21_p19['Comment Text']=c21_p19['Comment Text'].astype(str)\n",
    "\n",
    "sen21 = [i for i in c21_p19['Comment Text']]\n",
    "sen21 = ' '.join(sen21)\n",
    "\n",
    "char = [i for i in sen21]\n",
    "\n",
    "emojis_found = []\n",
    "\n",
    "for i in char:\n",
    "    if emoji.is_emoji(i):\n",
    "        emojis_found.append(i)\n",
    "\n",
    "print(len(emojis_found))"
   ]
  },
  {
   "cell_type": "code",
   "execution_count": 26,
   "id": "4ecc84b4",
   "metadata": {},
   "outputs": [
    {
     "name": "stdout",
     "output_type": "stream",
     "text": [
      "130\n"
     ]
    }
   ],
   "source": [
    "first_emojis = []\n",
    "\n",
    "for comment in c21_p19['Comment Text']:\n",
    "    emoji_found = False\n",
    "    for char in comment:\n",
    "        if emoji.is_emoji(char):\n",
    "            first_emojis.append(char)\n",
    "            emoji_found = True\n",
    "            break \n",
    "    if not emoji_found:\n",
    "        first_emojis.append(None) \n",
    "\n",
    "emojipercommnet = []\n",
    "\n",
    "for i in first_emojis:\n",
    "    if emoji.is_emoji(i):\n",
    "        emojipercommnet.append(i)\n",
    "\n",
    "print(len(emojipercommnet))"
   ]
  },
  {
   "cell_type": "markdown",
   "id": "5397f24b",
   "metadata": {},
   "source": [
    "# 2022"
   ]
  },
  {
   "cell_type": "code",
   "execution_count": 27,
   "id": "bc11cb19",
   "metadata": {},
   "outputs": [
    {
     "name": "stdout",
     "output_type": "stream",
     "text": [
      "<class 'pandas.core.frame.DataFrame'>\n",
      "Int64Index: 913 entries, 26 to 196469\n",
      "Data columns (total 2 columns):\n",
      " #   Column        Non-Null Count  Dtype \n",
      "---  ------        --------------  ----- \n",
      " 0   Year          913 non-null    object\n",
      " 1   Comment Text  888 non-null    object\n",
      "dtypes: object(2)\n",
      "memory usage: 21.4+ KB\n"
     ]
    }
   ],
   "source": [
    "c22_p19=pd.DataFrame(merged_df[merged_df['Year']=='2022'][['Year','Comment Text']])\n",
    "c22_p19.info() "
   ]
  },
  {
   "cell_type": "code",
   "execution_count": 28,
   "id": "1f8fcbec",
   "metadata": {},
   "outputs": [
    {
     "name": "stdout",
     "output_type": "stream",
     "text": [
      "3947\n"
     ]
    }
   ],
   "source": [
    "c22_p19['Comment Text']=c22_p19['Comment Text'].astype(str)\n",
    "\n",
    "sen22 = [i for i in c22_p19['Comment Text']]\n",
    "sen22 = ' '.join(sen22)\n",
    "\n",
    "char = [i for i in sen22]\n",
    "\n",
    "emojis_found = []\n",
    "\n",
    "for i in char:\n",
    "    if emoji.is_emoji(i):\n",
    "        emojis_found.append(i)\n",
    "\n",
    "print(len(emojis_found))"
   ]
  },
  {
   "cell_type": "code",
   "execution_count": 29,
   "id": "26840795",
   "metadata": {},
   "outputs": [
    {
     "name": "stdout",
     "output_type": "stream",
     "text": [
      "253\n"
     ]
    }
   ],
   "source": [
    "first_emojis = []\n",
    "\n",
    "for comment in c22_p19['Comment Text']:\n",
    "    emoji_found = False\n",
    "    for char in comment:\n",
    "        if emoji.is_emoji(char):\n",
    "            first_emojis.append(char)\n",
    "            emoji_found = True\n",
    "            break  \n",
    "    if not emoji_found:\n",
    "        first_emojis.append(None)  \n",
    "\n",
    "emojipercommnet = []\n",
    "\n",
    "for i in first_emojis:\n",
    "    if emoji.is_emoji(i):\n",
    "        emojipercommnet.append(i)\n",
    "\n",
    "print(len(emojipercommnet))"
   ]
  },
  {
   "cell_type": "markdown",
   "id": "972d1ac8",
   "metadata": {},
   "source": [
    "# 2023"
   ]
  },
  {
   "cell_type": "code",
   "execution_count": 18,
   "id": "288ce170",
   "metadata": {},
   "outputs": [
    {
     "name": "stdout",
     "output_type": "stream",
     "text": [
      "<class 'pandas.core.frame.DataFrame'>\n",
      "Int64Index: 1998 entries, 22 to 196470\n",
      "Data columns (total 2 columns):\n",
      " #   Column        Non-Null Count  Dtype \n",
      "---  ------        --------------  ----- \n",
      " 0   Year          1998 non-null   object\n",
      " 1   Comment Text  1971 non-null   object\n",
      "dtypes: object(2)\n",
      "memory usage: 46.8+ KB\n"
     ]
    }
   ],
   "source": [
    "c23_p19=pd.DataFrame(merged_df[merged_df['Year']=='2023'][['Year','Comment Text']])\n",
    "c23_p19.info() "
   ]
  },
  {
   "cell_type": "code",
   "execution_count": 30,
   "id": "d0ca08d7",
   "metadata": {},
   "outputs": [
    {
     "name": "stdout",
     "output_type": "stream",
     "text": [
      "2641\n"
     ]
    }
   ],
   "source": [
    "c23_p19['Comment Text']=c23_p19['Comment Text'].astype(str)\n",
    "\n",
    "sen23 = [i for i in c23_p19['Comment Text']]\n",
    "sen23 = ' '.join(sen23)\n",
    "\n",
    "char = [i for i in sen23]\n",
    "\n",
    "emojis_found = []\n",
    "\n",
    "for i in char:\n",
    "    if emoji.is_emoji(i):\n",
    "        emojis_found.append(i)\n",
    "\n",
    "print(len(emojis_found))"
   ]
  },
  {
   "cell_type": "code",
   "execution_count": 31,
   "id": "fd9e1ce4",
   "metadata": {},
   "outputs": [
    {
     "name": "stdout",
     "output_type": "stream",
     "text": [
      "852\n"
     ]
    }
   ],
   "source": [
    "first_emojis = []\n",
    "\n",
    "for comment in c23_p19['Comment Text']:\n",
    "    emoji_found = False\n",
    "    for char in comment:\n",
    "        if emoji.is_emoji(char):\n",
    "            first_emojis.append(char)\n",
    "            emoji_found = True\n",
    "            break  \n",
    "    if not emoji_found:\n",
    "        first_emojis.append(None)  \n",
    "\n",
    "emojipercommnet = []\n",
    "\n",
    "for i in first_emojis:\n",
    "    if emoji.is_emoji(i):\n",
    "        emojipercommnet.append(i)\n",
    "\n",
    "print(len(emojipercommnet))"
   ]
  }
 ],
 "metadata": {
  "kernelspec": {
   "display_name": "Python 3 (ipykernel)",
   "language": "python",
   "name": "python3"
  },
  "language_info": {
   "codemirror_mode": {
    "name": "ipython",
    "version": 3
   },
   "file_extension": ".py",
   "mimetype": "text/x-python",
   "name": "python",
   "nbconvert_exporter": "python",
   "pygments_lexer": "ipython3",
   "version": "3.9.13"
  }
 },
 "nbformat": 4,
 "nbformat_minor": 5
}
