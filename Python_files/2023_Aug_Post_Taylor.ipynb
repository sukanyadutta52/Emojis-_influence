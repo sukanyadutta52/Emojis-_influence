{
 "cells": [
  {
   "cell_type": "code",
   "execution_count": 1,
   "id": "3de12e5f",
   "metadata": {},
   "outputs": [
    {
     "name": "stdout",
     "output_type": "stream",
     "text": [
      "<class 'pandas.core.frame.DataFrame'>\n",
      "Int64Index: 193781 entries, 0 to 37638\n",
      "Data columns (total 9 columns):\n",
      " #   Column         Non-Null Count   Dtype \n",
      "---  ------         --------------   ----- \n",
      " 0   User Id        193781 non-null  int64 \n",
      " 1   Username       193781 non-null  object\n",
      " 2   Comment Id     193781 non-null  object\n",
      " 3   Comment Text   189984 non-null  object\n",
      " 4   Reply Count    193781 non-null  int64 \n",
      " 5   Like Count     193781 non-null  int64 \n",
      " 6   Date           193781 non-null  object\n",
      " 7   Permalink URL  193781 non-null  object\n",
      " 8   Profile URL    193781 non-null  object\n",
      "dtypes: int64(3), object(6)\n",
      "memory usage: 14.8+ MB\n"
     ]
    }
   ],
   "source": [
    "import pandas as pd\n",
    "\n",
    "df1=pd.read_csv(\"C:\\\\Users\\\\sukan\\\\OneDrive\\\\Desktop\\\\Python\\\\FBcomments\\\\Taylor_Swift\\\\2023\\\\3Aug23.csv\",header=0)\n",
    "df2=pd.read_csv(\"C:\\\\Users\\\\sukan\\\\OneDrive\\\\Desktop\\\\Python\\\\FBcomments\\\\Taylor_Swift\\\\2023\\\\10aug23.csv\",header=0)\n",
    "df3=pd.read_csv(\"C:\\\\Users\\\\sukan\\\\OneDrive\\\\Desktop\\\\Python\\\\FBcomments\\\\Taylor_Swift\\\\2023\\\\17aug23.csv\",header=0)\n",
    "df4=pd.read_csv(\"C:\\\\Users\\\\sukan\\\\OneDrive\\\\Desktop\\\\Python\\\\FBcomments\\\\Taylor_Swift\\\\2023\\\\21Aug23.csv\",header=0)\n",
    "df5=pd.read_csv(\"C:\\\\Users\\\\sukan\\\\OneDrive\\\\Desktop\\\\Python\\\\FBcomments\\\\Taylor_Swift\\\\2023\\\\31Aug23.csv\",header=0)\n",
    "df=pd.concat([df1,df2,df3,df4,df5])\n",
    "\n",
    "df.info()"
   ]
  },
  {
   "cell_type": "markdown",
   "id": "972e8c6e",
   "metadata": {},
   "source": [
    "# modifying column date "
   ]
  },
  {
   "cell_type": "code",
   "execution_count": 3,
   "id": "c3e0240a",
   "metadata": {},
   "outputs": [
    {
     "data": {
      "text/plain": [
       "array(['2023'], dtype=object)"
      ]
     },
     "execution_count": 3,
     "metadata": {},
     "output_type": "execute_result"
    }
   ],
   "source": [
    "df['Year']= df['Date'].apply(lambda x: x.split(',')[0][-4:])\n",
    "df['Year'].unique()"
   ]
  },
  {
   "cell_type": "code",
   "execution_count": 4,
   "id": "983a5424",
   "metadata": {},
   "outputs": [
    {
     "name": "stdout",
     "output_type": "stream",
     "text": [
      "263795\n"
     ]
    }
   ],
   "source": [
    "df['Comment Text']=df['Comment Text'].astype(str)\n",
    "\n",
    "sen23 = [i for i in df['Comment Text']]\n",
    "sen23 = ' '.join(sen23)\n",
    "\n",
    "char = [i for i in sen23]\n",
    "\n",
    "import emoji\n",
    "emojis_found = []\n",
    "for i in char:\n",
    "    if emoji.is_emoji(i):\n",
    "        emojis_found.append(i)\n",
    "\n",
    "print(len(emojis_found))"
   ]
  },
  {
   "cell_type": "code",
   "execution_count": 5,
   "id": "b450062d",
   "metadata": {},
   "outputs": [
    {
     "name": "stdout",
     "output_type": "stream",
     "text": [
      "76564\n"
     ]
    }
   ],
   "source": [
    "first_emojis = []\n",
    "\n",
    "for comment in df['Comment Text']:\n",
    "    emoji_found = False\n",
    "    for char in comment:\n",
    "        if emoji.is_emoji(char):\n",
    "            first_emojis.append(char)\n",
    "            emoji_found = True\n",
    "            break  \n",
    "    if not emoji_found:\n",
    "        first_emojis.append(None)  \n",
    "\n",
    "emojipercommnet = []\n",
    "\n",
    "for i in first_emojis:\n",
    "    if emoji.is_emoji(i):\n",
    "        emojipercommnet.append(i)\n",
    "\n",
    "print(len(emojipercommnet))"
   ]
  }
 ],
 "metadata": {
  "kernelspec": {
   "display_name": "Python 3 (ipykernel)",
   "language": "python",
   "name": "python3"
  },
  "language_info": {
   "codemirror_mode": {
    "name": "ipython",
    "version": 3
   },
   "file_extension": ".py",
   "mimetype": "text/x-python",
   "name": "python",
   "nbconvert_exporter": "python",
   "pygments_lexer": "ipython3",
   "version": "3.9.13"
  }
 },
 "nbformat": 4,
 "nbformat_minor": 5
}
